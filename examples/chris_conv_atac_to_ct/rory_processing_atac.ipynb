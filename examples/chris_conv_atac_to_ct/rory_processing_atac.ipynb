{
 "cells": [
  {
   "cell_type": "code",
   "execution_count": 1,
   "metadata": {},
   "outputs": [],
   "source": [
    "atac_path = '/camp/lab/briscoej/working/Rory/transcriptomics/NeurIPS_2021/nips_2021/multiome/multiome_atac_processed_training.h5ad'\n"
   ]
  },
  {
   "cell_type": "code",
   "execution_count": 22,
   "metadata": {},
   "outputs": [],
   "source": [
    "import scanpy as sc\n",
    "import numpy as np\n",
    "import matplotlib.pyplot as plt"
   ]
  },
  {
   "cell_type": "code",
   "execution_count": 18,
   "metadata": {},
   "outputs": [],
   "source": [
    "atac = sc.read(atac_path)"
   ]
  },
  {
   "cell_type": "code",
   "execution_count": 19,
   "metadata": {},
   "outputs": [],
   "source": [
    "peak_means = atac.X.sum(axis=1)"
   ]
  },
  {
   "cell_type": "code",
   "execution_count": 24,
   "metadata": {},
   "outputs": [
    {
     "data": {
      "text/plain": [
       "(array([2.140e+03, 2.270e+03, 2.210e+03, 2.493e+03, 3.536e+03, 3.795e+03,\n",
       "        2.130e+03, 1.125e+03, 8.030e+02, 5.760e+02, 3.970e+02, 2.510e+02,\n",
       "        1.860e+02, 1.410e+02, 1.060e+02, 8.000e+01, 7.400e+01, 3.900e+01,\n",
       "        3.300e+01, 1.800e+01, 1.200e+01, 1.600e+01, 5.000e+00, 6.000e+00,\n",
       "        2.000e+00, 4.000e+00, 6.000e+00, 2.000e+00, 3.000e+00, 4.000e+00]),\n",
       " array([   82. ,   712.7,  1343.4,  1974.1,  2604.8,  3235.5,  3866.2,\n",
       "         4496.9,  5127.6,  5758.3,  6389. ,  7019.7,  7650.4,  8281.1,\n",
       "         8911.8,  9542.5, 10173.2, 10803.9, 11434.6, 12065.3, 12696. ,\n",
       "        13326.7, 13957.4, 14588.1, 15218.8, 15849.5, 16480.2, 17110.9,\n",
       "        17741.6, 18372.3, 19003. ], dtype=float32),\n",
       " <BarContainer object of 30 artists>)"
      ]
     },
     "execution_count": 24,
     "metadata": {},
     "output_type": "execute_result"
    },
    {
     "data": {
      "image/png": "[encoded data removed]",
      "text/plain": [
       "<Figure size 432x288 with 1 Axes>"
      ]
     },
     "metadata": {
      "needs_background": "light"
     },
     "output_type": "display_data"
    }
   ],
   "source": [
    "plt.hist(peak_means,bins=30)"
   ]
  },
  {
   "cell_type": "code",
   "execution_count": null,
   "metadata": {},
   "outputs": [],
   "source": []
  }
 ],
 "metadata": {
  "kernelspec": {
   "display_name": "python_lab",
   "language": "python",
   "name": "python_lab"
  },
  "language_info": {
   "codemirror_mode": {
    "name": "ipython",
    "version": 3
   },
   "file_extension": ".py",
   "mimetype": "text/x-python",
   "name": "python",
   "nbconvert_exporter": "python",
   "pygments_lexer": "ipython3",
   "version": "3.8.6"
  }
 },
 "nbformat": 4,
 "nbformat_minor": 2
}
