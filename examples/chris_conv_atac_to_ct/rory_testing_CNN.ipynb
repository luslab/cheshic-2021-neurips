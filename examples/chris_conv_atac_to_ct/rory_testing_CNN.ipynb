{
 "cells": [
  {
   "cell_type": "code",
   "execution_count": 1,
   "metadata": {},
   "outputs": [],
   "source": [
    "# libs\n",
    "import logging\n",
    "import argparse\n",
    "import math\n",
    "import sys\n",
    "\n",
    "import numpy as np\n",
    "import pandas as pd\n",
    "import scanpy as sc\n",
    "\n",
    "import torch\n",
    "from torch.utils.data import Dataset\n",
    "from torch.utils.data import DataLoader\n",
    "import torch.nn as nn\n",
    "import torch.nn.functional as F\n",
    "import torch.optim as optim"
   ]
  },
  {
   "cell_type": "code",
   "execution_count": 2,
   "metadata": {},
   "outputs": [
    {
     "data": {
      "text/plain": [
       "'1.8.1'"
      ]
     },
     "execution_count": 2,
     "metadata": {},
     "output_type": "execute_result"
    }
   ],
   "source": [
    "torch.__version__"
   ]
  },
  {
   "cell_type": "code",
   "execution_count": 3,
   "metadata": {},
   "outputs": [],
   "source": [
    "sys.path.insert(0, '../../bin')\n",
    "from helpers import Load_Dataset\n",
    "from RNA_functions import celltype_function\n",
    "from trainer import train"
   ]
  },
  {
   "cell_type": "code",
   "execution_count": 4,
   "metadata": {},
   "outputs": [
    {
     "name": "stderr",
     "output_type": "stream",
     "text": [
      "2021-10-23 23:43:09 INFO     Cuda available: True\n",
      "2021-10-23 23:43:09 INFO     Cuda device count: 4\n",
      "2021-10-23 23:43:09 INFO     Cuda device name: Tesla V100-SXM2-32GB\n"
     ]
    }
   ],
   "source": [
    "# Log GPU status\n",
    "is_cuda = torch.cuda.is_available()\n",
    "logging.info(\"Cuda available: \" + str(is_cuda))\n",
    "if is_cuda:\n",
    "    current_device = torch.cuda.current_device()\n",
    "    #torch.cuda.device(current_device)\n",
    "    device_count = torch.cuda.device_count()\n",
    "    logging.info(\"Cuda device count: \" + str(device_count))\n",
    "    device_name = torch.cuda.get_device_name(current_device)\n",
    "    logging.info(\"Cuda device name: \" + str(device_name))"
   ]
  },
  {
   "cell_type": "code",
   "execution_count": 5,
   "metadata": {},
   "outputs": [],
   "source": [
    "def celltype_function(RNA_adata):\n",
    "    \"\"\"\n",
    "    this code is taken from Chris, just to demonstrate wrapping into a function\n",
    "    \"\"\"\n",
    "    # Find cell types and get index labels\n",
    "    ct_grouped = RNA_adata.obs.groupby(\"cell_type\").size()\n",
    "    df_ct_grouped = pd.DataFrame(ct_grouped, columns=[\"count\"])\n",
    "    df_ct_grouped = df_ct_grouped.reset_index()\n",
    "    df_ct_grouped['label_id'] = df_ct_grouped.index\n",
    "\n",
    "    # Merge label ids with obs\n",
    "    RNA_adata.obs = RNA_adata.obs.reset_index().merge(df_ct_grouped, on='cell_type', how='inner').set_index('index')\n",
    "    return np.array(RNA_adata.obs.label_id)"
   ]
  },
  {
   "cell_type": "code",
   "execution_count": 6,
   "metadata": {},
   "outputs": [],
   "source": [
    "atac_path = '/camp/lab/briscoej/working/Rory/transcriptomics/NeurIPS_2021/nips_2021/multiome/multiome_atac_processed_training.h5ad'\n",
    "rna_path = '/camp/lab/briscoej/working/Rory/transcriptomics/NeurIPS_2021/nips_2021/multiome/multiome_gex_processed_training.h5ad'"
   ]
  },
  {
   "cell_type": "code",
   "execution_count": null,
   "metadata": {},
   "outputs": [],
   "source": []
  },
  {
   "cell_type": "code",
   "execution_count": 8,
   "metadata": {},
   "outputs": [],
   "source": [
    "# class Net(nn.Module):\n",
    "#     def __init__(self, dataset):\n",
    "#         super().__init__()\n",
    "#         self.embed1 = nn.Linear(dataset.n_peaks, 100)\n",
    "#         self.fc1 = nn.Linear(100, 200)\n",
    "#         self.fc2 = nn.Linear(200, 100)\n",
    "#         self.fc3 = nn.Linear(100, dataset.n_labels)\n",
    "\n",
    "#     def forward(self, x):\n",
    "#         x = F.relu(self.embed1(x))\n",
    "#         x = F.relu(self.fc1(x))\n",
    "#         x = F.relu(self.fc2(x))\n",
    "#         x = self.fc3(x)\n",
    "#         return x"
   ]
  },
  {
   "cell_type": "code",
   "execution_count": 21,
   "metadata": {},
   "outputs": [],
   "source": [
    "\n",
    "\n",
    "class ConvNet(nn.Module):\n",
    "    \"\"\"\n",
    "    basic feed forward model to test things out...\n",
    "    \"\"\"\n",
    "    def __init__(self,dataset):\n",
    "        super().__init__()\n",
    "        # could just do two 1d convs to a feed forward network, keep simple...\n",
    "        \n",
    "        self.embed = nn.Linear(dataset.n_peaks,5000)\n",
    "        self.conv1a = nn.Conv1d(in_channels=1, out_channels=1, \n",
    "                                kernel_size=128, stride=2, padding=0, dilation=1, bias=True)\n",
    "        self.conv1b = nn.Conv1d(in_channels=1, out_channels=1, \n",
    "                                kernel_size=128, stride=2, padding=0, dilation=1, bias=True)\n",
    "        self.pool1d = nn.MaxPool1d(kernel_size=4)\n",
    "        self.batch_embed = nn.BatchNorm1d(1)\n",
    "        self.batch1a = nn.BatchNorm1d(1)\n",
    "        self.batch1b = nn.BatchNorm1d(1)\n",
    "        \n",
    "#         # I would probably get rid of these:\n",
    "#         self.conv2a = nn.Conv2d(in_channels=1, out_channels=1, kernel_size=8, stride=1, padding=1, dilation=1)\n",
    "#         self.conv2b = nn.Conv2d(in_channels=1, out_channels=1, kernel_size=8, stride=1, padding=1, dilation=1)\n",
    "#         self.pool2d = nn.MaxPool2d(2,2)\n",
    "#         self.batch2a = nn.BatchNorm2d(1)\n",
    "#         self.batch2b = nn.BatchNorm2d(1)\n",
    "        \n",
    "        self.fc1 = nn.Linear(241, 64)\n",
    "        self.fc2 = nn.Linear(64, dataset.n_labels)\n",
    "        self.drop = nn.Dropout(p=0.3)\n",
    "        \n",
    "        for layer in [self.conv1a,self.conv1b,self.fc1,self.fc2]:\n",
    "            nn.init.xavier_normal_(layer.weight)\n",
    "            nn.init.constant_(layer.bias, 0.1)\n",
    "\n",
    "    def forward(self, x):\n",
    "        x = F.relu(self.embed(x))\n",
    "#         x = x.reshape(x.shape[0], 1, x.shape[1])\n",
    "        x = self.batch_embed(x)\n",
    "        x = self.drop(x)\n",
    "        x = F.relu(self.conv1a(x))\n",
    "        x = self.batch1a(x)\n",
    "        x = self.pool1d(x)\n",
    "        x = self.drop(x)\n",
    "        x = F.relu(self.conv1b(x))\n",
    "        x = self.batch1b(x)\n",
    "        \n",
    "#         x = x.reshape(x.shape[0], 1, x.shape[1], x.shape[2])\n",
    "#         x = self.drop(x)\n",
    "#         x = F.relu(self.conv2a(x))\n",
    "#         x = self.batch2a(x)\n",
    "#         x = self.pool2d(x)\n",
    "#         x = self.drop(x)\n",
    "#         x = F.relu(self.conv2b(x))\n",
    "#         x = self.batch2b(x)\n",
    "        \n",
    "        x = x.reshape(x.shape[0],-1)\n",
    "        x = F.relu(self.fc1(x))\n",
    "        x = self.fc2(x)\n",
    "        return x"
   ]
  },
  {
   "cell_type": "code",
   "execution_count": null,
   "metadata": {},
   "outputs": [],
   "source": [
    "def train(dataset, model, batch_size, optimizer, learning_rate, criterion, epochs, \n",
    "          test_pct=0.05, loss_print_freq=50, eval_freq=100):\n",
    "    logging.info('Initialising')\n",
    "    logging.info('Setup')\n",
    "\n",
    "    test_num = math.floor(dataset.n_cells * test_pct)\n",
    "    train_num = dataset.n_cells - test_num\n",
    "\n",
    "    logging.info('Train examples: ' + str(train_num))\n",
    "    logging.info('Test examples: ' + str(test_num))\n",
    "\n",
    "    # Load and split dataset\n",
    "    logging.info('Loading and splitting dataset')\n",
    "    train_set, test_set = torch.utils.data.random_split(dataset, [train_num, test_num])\n",
    "\n",
    "    train_dataloader = DataLoader(train_set, batch_size=batch_size, shuffle=True)\n",
    "    test_dataloader = DataLoader(test_set, batch_size=1, shuffle=True)\n",
    "\n",
    "    # ## DEBUG ##\n",
    "    # train_features, train_labels = next(iter(train_dataloader))\n",
    "    # print(f\"Feature batch shape: {train_features.size()}\")\n",
    "    # print(f\"Labels batch shape: {train_labels.size()}\")\n",
    "\n",
    "    # Train model\n",
    "    logging.info('Training model')\n",
    "\n",
    "    for epoch in range(epochs):\n",
    "        running_loss = 0.0\n",
    "        train_losses = []\n",
    "        test_losses = []\n",
    "        test_accuracy = []\n",
    "        for i, data in enumerate(train_dataloader, 0):\n",
    "            # get the inputs; data is a list of [inputs, labels]\n",
    "            inputs, labels = data\n",
    "\n",
    "            # zero the parameter gradients\n",
    "            optimizer.zero_grad()\n",
    "\n",
    "            # forward + backward + optimize\n",
    "            outputs = model(inputs)\n",
    "            loss = criterion(outputs, labels)\n",
    "            loss.backward()\n",
    "            optimizer.step()\n",
    "\n",
    "            # print statistics\n",
    "            running_loss += loss.item()\n",
    "            if i % loss_print_freq == loss_print_freq - 1:\n",
    "                single_loss = running_loss / loss_print_freq\n",
    "                train_losses.append(single_loss)\n",
    "                logging.info('[epoch-%d, %5d] loss: %.3f' % (epoch + 1, i + 1, single_loss))\n",
    "                running_loss = 0.0\n",
    "\n",
    "            # eval\n",
    "            if i % eval_freq == eval_freq - 1:\n",
    "                model.eval()\n",
    "                test_loss = 0.0\n",
    "                accuracy = 0.0\n",
    "\n",
    "                with torch.no_grad():\n",
    "                    for inputs, labels in test_dataloader:\n",
    "                        outputs = model(inputs)\n",
    "                        loss = criterion(outputs, labels)\n",
    "                        ps = torch.exp(outputs)\n",
    "                        top_p, top_class = ps.topk(1, dim=1)\n",
    "                        equals = top_class == labels.view(*top_class.shape)\n",
    "                        test_loss += loss.item()\n",
    "                        accuracy += torch.mean(equals.type(torch.FloatTensor)).item()\n",
    "\n",
    "                test_count = len(test_dataloader)\n",
    "\n",
    "                print(accuracy)\n",
    "                print(test_count)\n",
    "\n",
    "                single_test_loss = test_loss / test_count\n",
    "                single_test_accuracy = accuracy / test_count\n",
    "                test_losses.append(single_test_loss)\n",
    "                test_accuracy.append(single_test_accuracy)\n",
    "                model.train()\n",
    "\n",
    "                logging.info('EVAL - [epoch-%d, %5d] test_loss: %.3f test_accuracy: %.3f' % (epoch + 1, i + 1, single_test_loss, single_test_accuracy * 100))\n",
    "\n",
    "    logging.info('Finished Training')"
   ]
  },
  {
   "cell_type": "code",
   "execution_count": 26,
   "metadata": {},
   "outputs": [],
   "source": [
    "class Load_Dataset(Dataset):\n",
    "    \"\"\"\n",
    "    This takes your ATAC data (as a directory location) and RNA data and a user defined function \n",
    "    to transform the RNA in a meaningful way.\n",
    "    \n",
    "    It stores your data, performs your transformation and sets them up in an iterable way for pytorch.\n",
    "    \"\"\"\n",
    "    def __init__(self, ATAC_path, RNA_path, r_func, use_cuda=True, float_size=32):\n",
    "        if float_size == 16:\n",
    "            self.dtype = torch.float16\n",
    "        elif float_size == 32:\n",
    "            self.dtype = torch.float32\n",
    "        elif float_size == 64:\n",
    "            self.dtype = torch.float64\n",
    "        if torch.cuda.is_available() and use_cuda:\n",
    "            self.device = torch.device('cuda:0')\n",
    "        else:\n",
    "            self.device = torch.device('cpu')\n",
    "        \n",
    "        \n",
    "        self.dataset = sc.read(ATAC_path)\n",
    "        self.X = self.dataset.X.todense()\n",
    "        self.n_cells = self.X.shape[0]\n",
    "        self.n_peaks = self.X.shape[1]\n",
    "        \n",
    "        # get ground truth\n",
    "        self.RNA = sc.read(RNA_path)    \n",
    "        self.Y = r_func(self.RNA)\n",
    "        self.n_labels = int(len(np.unique(self.Y)))\n",
    "        self.r_func = r_func\n",
    "\n",
    "    def __len__(self):\n",
    "        return len(self.dataset.obs.index)\n",
    "\n",
    "    def __getitem__(self, idx):\n",
    "        label = torch.tensor(self.Y[idx], device=self.device, dtype=torch.long)\n",
    "        data = torch.tensor(self.X[idx], device=self.device, dtype=self.dtype)\n",
    "        return data, label"
   ]
  },
  {
   "cell_type": "code",
   "execution_count": 119,
   "metadata": {},
   "outputs": [],
   "source": [
    "class CNN(nn.Module):\n",
    "    \"\"\"\n",
    "    basic feed forward model to test things out...\n",
    "    \"\"\"\n",
    "    def __init__(self,dataset):\n",
    "        super().__init__()\n",
    "        # could just do two 1d convs to a feed forward network, keep simple...\n",
    "        \n",
    "        self.conv1a = nn.Conv1d(in_channels=1, out_channels=1, \n",
    "                                kernel_size=64, stride=32, padding=0, dilation=1, bias=True)\n",
    "        self.conv1b = nn.Conv1d(in_channels=1, out_channels=1, \n",
    "                                kernel_size=64, stride=24, padding=0, dilation=1, bias=True)\n",
    "        self.pool1d = nn.MaxPool1d(kernel_size=2)\n",
    "        self.batch1a = nn.BatchNorm1d(1)\n",
    "        self.batch1b = nn.BatchNorm1d(1)\n",
    "        \n",
    "        self.fc1 = nn.Linear(74, 32)\n",
    "        self.fc2 = nn.Linear(32, dataset.n_labels)\n",
    "        self.drop = nn.Dropout(p=0.2)\n",
    "        \n",
    "        for layer in [self.conv1a,self.conv1b,self.fc1,self.fc2]:\n",
    "            nn.init.xavier_normal_(layer.weight)\n",
    "            nn.init.constant_(layer.bias, 0.1)\n",
    "\n",
    "    def forward(self, x):\n",
    "        x = self.drop(x)\n",
    "        x = F.relu(self.conv1a(x))\n",
    "        x = self.batch1a(x)\n",
    "        x = self.pool1d(x)\n",
    "        x = self.drop(x)\n",
    "        x = F.relu(self.conv1b(x))\n",
    "        x = self.batch1b(x)\n",
    "        x = x.reshape(x.shape[0],-1)\n",
    "        x = F.relu(self.fc1(x))\n",
    "        x = self.fc2(x)\n",
    "        return x"
   ]
  },
  {
   "cell_type": "code",
   "execution_count": 125,
   "metadata": {},
   "outputs": [],
   "source": [
    "class Net(nn.Module):\n",
    "    def __init__(self, dataset):\n",
    "        \"\"\"This doesn't work\"\"\"\n",
    "        super().__init__()\n",
    "        self.embed1 = nn.Linear(dataset.n_peaks, 512)\n",
    "        self.fc1 = nn.Linear(512, 128)\n",
    "        self.fc2 = nn.Linear(128, 32)\n",
    "        self.fc3 = nn.Linear(32, dataset.n_labels)\n",
    "\n",
    "    def forward(self, x):\n",
    "        x = F.relu(self.embed1(x))\n",
    "        x = F.relu(self.fc1(x))\n",
    "        x = F.relu(self.fc2(x))\n",
    "        x = x.reshape(x.shape[0],-1)\n",
    "        x = self.fc3(x)\n",
    "        return x"
   ]
  },
  {
   "cell_type": "code",
   "execution_count": 127,
   "metadata": {
    "scrolled": false
   },
   "outputs": [
    {
     "name": "stderr",
     "output_type": "stream",
     "text": [
      "2021-10-24 02:32:53 INFO     Initialising\n",
      "2021-10-24 02:32:53 INFO     Setup\n",
      "2021-10-24 02:32:53 INFO     Train examples: 17971\n",
      "2021-10-24 02:32:53 INFO     Test examples: 4492\n",
      "2021-10-24 02:32:53 INFO     Loading and splitting dataset\n",
      "2021-10-24 02:32:53 INFO     Training model\n",
      "2021-10-24 02:32:56 INFO     [epoch-1,    10] loss: 2.971\n",
      "2021-10-24 02:33:03 INFO     EVAL - [epoch-1,    10] test_loss: 2.819 test_accuracy: 13.290\n"
     ]
    },
    {
     "name": "stdout",
     "output_type": "stream",
     "text": [
      "597.0\n",
      "4492\n"
     ]
    },
    {
     "name": "stderr",
     "output_type": "stream",
     "text": [
      "2021-10-24 02:33:05 INFO     [epoch-1,    20] loss: 2.806\n",
      "2021-10-24 02:33:12 INFO     EVAL - [epoch-1,    20] test_loss: 2.709 test_accuracy: 17.008\n"
     ]
    },
    {
     "name": "stdout",
     "output_type": "stream",
     "text": [
      "764.0\n",
      "4492\n"
     ]
    },
    {
     "name": "stderr",
     "output_type": "stream",
     "text": [
      "2021-10-24 02:33:14 INFO     [epoch-1,    30] loss: 2.661\n",
      "2021-10-24 02:33:21 INFO     EVAL - [epoch-1,    30] test_loss: 2.598 test_accuracy: 22.128\n"
     ]
    },
    {
     "name": "stdout",
     "output_type": "stream",
     "text": [
      "994.0\n",
      "4492\n"
     ]
    },
    {
     "name": "stderr",
     "output_type": "stream",
     "text": [
      "2021-10-24 02:33:23 INFO     [epoch-1,    40] loss: 2.585\n",
      "2021-10-24 02:33:30 INFO     EVAL - [epoch-1,    40] test_loss: 2.516 test_accuracy: 23.286\n"
     ]
    },
    {
     "name": "stdout",
     "output_type": "stream",
     "text": [
      "1046.0\n",
      "4492\n"
     ]
    },
    {
     "name": "stderr",
     "output_type": "stream",
     "text": [
      "2021-10-24 02:33:33 INFO     [epoch-1,    50] loss: 2.512\n",
      "2021-10-24 02:33:40 INFO     EVAL - [epoch-1,    50] test_loss: 2.448 test_accuracy: 21.549\n"
     ]
    },
    {
     "name": "stdout",
     "output_type": "stream",
     "text": [
      "968.0\n",
      "4492\n"
     ]
    },
    {
     "name": "stderr",
     "output_type": "stream",
     "text": [
      "2021-10-24 02:33:42 INFO     [epoch-1,    60] loss: 2.438\n",
      "2021-10-24 02:33:49 INFO     EVAL - [epoch-1,    60] test_loss: 2.369 test_accuracy: 27.204\n"
     ]
    },
    {
     "name": "stdout",
     "output_type": "stream",
     "text": [
      "1222.0\n",
      "4492\n"
     ]
    },
    {
     "name": "stderr",
     "output_type": "stream",
     "text": [
      "2021-10-24 02:33:51 INFO     [epoch-1,    70] loss: 2.384\n",
      "2021-10-24 02:33:58 INFO     EVAL - [epoch-1,    70] test_loss: 2.305 test_accuracy: 27.827\n"
     ]
    },
    {
     "name": "stdout",
     "output_type": "stream",
     "text": [
      "1250.0\n",
      "4492\n"
     ]
    },
    {
     "name": "stderr",
     "output_type": "stream",
     "text": [
      "2021-10-24 02:34:00 INFO     [epoch-2,    10] loss: 1.971\n",
      "2021-10-24 02:34:07 INFO     EVAL - [epoch-2,    10] test_loss: 2.233 test_accuracy: 30.499\n"
     ]
    },
    {
     "name": "stdout",
     "output_type": "stream",
     "text": [
      "1370.0\n",
      "4492\n"
     ]
    },
    {
     "name": "stderr",
     "output_type": "stream",
     "text": [
      "2021-10-24 02:34:10 INFO     [epoch-2,    20] loss: 1.810\n",
      "2021-10-24 02:34:16 INFO     EVAL - [epoch-2,    20] test_loss: 2.160 test_accuracy: 33.059\n"
     ]
    },
    {
     "name": "stdout",
     "output_type": "stream",
     "text": [
      "1485.0\n",
      "4492\n"
     ]
    },
    {
     "name": "stderr",
     "output_type": "stream",
     "text": [
      "2021-10-24 02:34:19 INFO     [epoch-2,    30] loss: 1.614\n",
      "2021-10-24 02:34:26 INFO     EVAL - [epoch-2,    30] test_loss: 2.156 test_accuracy: 30.543\n"
     ]
    },
    {
     "name": "stdout",
     "output_type": "stream",
     "text": [
      "1372.0\n",
      "4492\n"
     ]
    },
    {
     "name": "stderr",
     "output_type": "stream",
     "text": [
      "2021-10-24 02:34:28 INFO     [epoch-2,    40] loss: 1.570\n",
      "2021-10-24 02:34:35 INFO     EVAL - [epoch-2,    40] test_loss: 2.121 test_accuracy: 32.458\n"
     ]
    },
    {
     "name": "stdout",
     "output_type": "stream",
     "text": [
      "1458.0\n",
      "4492\n"
     ]
    },
    {
     "name": "stderr",
     "output_type": "stream",
     "text": [
      "2021-10-24 02:34:37 INFO     [epoch-2,    50] loss: 1.467\n",
      "2021-10-24 02:34:44 INFO     EVAL - [epoch-2,    50] test_loss: 2.079 test_accuracy: 31.233\n"
     ]
    },
    {
     "name": "stdout",
     "output_type": "stream",
     "text": [
      "1403.0\n",
      "4492\n"
     ]
    },
    {
     "name": "stderr",
     "output_type": "stream",
     "text": [
      "2021-10-24 02:34:46 INFO     [epoch-2,    60] loss: 1.435\n",
      "2021-10-24 02:34:53 INFO     EVAL - [epoch-2,    60] test_loss: 2.179 test_accuracy: 31.723\n"
     ]
    },
    {
     "name": "stdout",
     "output_type": "stream",
     "text": [
      "1425.0\n",
      "4492\n"
     ]
    },
    {
     "name": "stderr",
     "output_type": "stream",
     "text": [
      "2021-10-24 02:34:55 INFO     [epoch-2,    70] loss: 1.428\n",
      "2021-10-24 02:35:02 INFO     EVAL - [epoch-2,    70] test_loss: 2.168 test_accuracy: 31.411\n"
     ]
    },
    {
     "name": "stdout",
     "output_type": "stream",
     "text": [
      "1411.0\n",
      "4492\n"
     ]
    },
    {
     "name": "stderr",
     "output_type": "stream",
     "text": [
      "2021-10-24 02:35:05 INFO     [epoch-3,    10] loss: 0.832\n",
      "2021-10-24 02:35:12 INFO     EVAL - [epoch-3,    10] test_loss: 2.318 test_accuracy: 26.825\n"
     ]
    },
    {
     "name": "stdout",
     "output_type": "stream",
     "text": [
      "1205.0\n",
      "4492\n"
     ]
    },
    {
     "name": "stderr",
     "output_type": "stream",
     "text": [
      "2021-10-24 02:35:14 INFO     [epoch-3,    20] loss: 0.767\n",
      "2021-10-24 02:35:21 INFO     EVAL - [epoch-3,    20] test_loss: 2.481 test_accuracy: 27.070\n"
     ]
    },
    {
     "name": "stdout",
     "output_type": "stream",
     "text": [
      "1216.0\n",
      "4492\n"
     ]
    },
    {
     "name": "stderr",
     "output_type": "stream",
     "text": [
      "2021-10-24 02:35:23 INFO     [epoch-3,    30] loss: 0.706\n",
      "2021-10-24 02:35:30 INFO     EVAL - [epoch-3,    30] test_loss: 2.590 test_accuracy: 28.250\n"
     ]
    },
    {
     "name": "stdout",
     "output_type": "stream",
     "text": [
      "1269.0\n",
      "4492\n"
     ]
    },
    {
     "name": "stderr",
     "output_type": "stream",
     "text": [
      "2021-10-24 02:35:32 INFO     [epoch-3,    40] loss: 0.682\n",
      "2021-10-24 02:35:39 INFO     EVAL - [epoch-3,    40] test_loss: 2.687 test_accuracy: 31.256\n"
     ]
    },
    {
     "name": "stdout",
     "output_type": "stream",
     "text": [
      "1404.0\n",
      "4492\n"
     ]
    },
    {
     "name": "stderr",
     "output_type": "stream",
     "text": [
      "2021-10-24 02:35:42 INFO     [epoch-3,    50] loss: 0.633\n",
      "2021-10-24 02:35:48 INFO     EVAL - [epoch-3,    50] test_loss: 2.761 test_accuracy: 26.825\n"
     ]
    },
    {
     "name": "stdout",
     "output_type": "stream",
     "text": [
      "1205.0\n",
      "4492\n"
     ]
    },
    {
     "name": "stderr",
     "output_type": "stream",
     "text": [
      "2021-10-24 02:35:51 INFO     [epoch-3,    60] loss: 0.591\n",
      "2021-10-24 02:35:58 INFO     EVAL - [epoch-3,    60] test_loss: 2.841 test_accuracy: 23.598\n"
     ]
    },
    {
     "name": "stdout",
     "output_type": "stream",
     "text": [
      "1060.0\n",
      "4492\n"
     ]
    },
    {
     "name": "stderr",
     "output_type": "stream",
     "text": [
      "2021-10-24 02:36:00 INFO     [epoch-3,    70] loss: 0.582\n",
      "2021-10-24 02:36:07 INFO     EVAL - [epoch-3,    70] test_loss: 2.864 test_accuracy: 24.288\n"
     ]
    },
    {
     "name": "stdout",
     "output_type": "stream",
     "text": [
      "1091.0\n",
      "4492\n"
     ]
    },
    {
     "name": "stderr",
     "output_type": "stream",
     "text": [
      "2021-10-24 02:36:09 INFO     [epoch-4,    10] loss: 0.296\n",
      "2021-10-24 02:36:16 INFO     EVAL - [epoch-4,    10] test_loss: 3.441 test_accuracy: 22.373\n"
     ]
    },
    {
     "name": "stdout",
     "output_type": "stream",
     "text": [
      "1005.0\n",
      "4492\n"
     ]
    },
    {
     "name": "stderr",
     "output_type": "stream",
     "text": [
      "2021-10-24 02:36:18 INFO     [epoch-4,    20] loss: 0.275\n",
      "2021-10-24 02:36:25 INFO     EVAL - [epoch-4,    20] test_loss: 3.471 test_accuracy: 24.221\n"
     ]
    },
    {
     "name": "stdout",
     "output_type": "stream",
     "text": [
      "1088.0\n",
      "4492\n"
     ]
    },
    {
     "name": "stderr",
     "output_type": "stream",
     "text": [
      "2021-10-24 02:36:28 INFO     [epoch-4,    30] loss: 0.234\n",
      "2021-10-24 02:36:34 INFO     EVAL - [epoch-4,    30] test_loss: 3.443 test_accuracy: 27.694\n"
     ]
    },
    {
     "name": "stdout",
     "output_type": "stream",
     "text": [
      "1244.0\n",
      "4492\n"
     ]
    },
    {
     "name": "stderr",
     "output_type": "stream",
     "text": [
      "2021-10-24 02:36:37 INFO     [epoch-4,    40] loss: 0.233\n",
      "2021-10-24 02:36:44 INFO     EVAL - [epoch-4,    40] test_loss: 3.786 test_accuracy: 22.284\n"
     ]
    },
    {
     "name": "stdout",
     "output_type": "stream",
     "text": [
      "1001.0\n",
      "4492\n"
     ]
    },
    {
     "name": "stderr",
     "output_type": "stream",
     "text": [
      "2021-10-24 02:36:46 INFO     [epoch-4,    50] loss: 0.232\n",
      "2021-10-24 02:36:53 INFO     EVAL - [epoch-4,    50] test_loss: 3.661 test_accuracy: 25.534\n"
     ]
    },
    {
     "name": "stdout",
     "output_type": "stream",
     "text": [
      "1147.0\n",
      "4492\n"
     ]
    },
    {
     "name": "stderr",
     "output_type": "stream",
     "text": [
      "2021-10-24 02:36:55 INFO     [epoch-4,    60] loss: 0.215\n",
      "2021-10-24 02:37:02 INFO     EVAL - [epoch-4,    60] test_loss: 3.651 test_accuracy: 29.274\n"
     ]
    },
    {
     "name": "stdout",
     "output_type": "stream",
     "text": [
      "1315.0\n",
      "4492\n"
     ]
    },
    {
     "name": "stderr",
     "output_type": "stream",
     "text": [
      "2021-10-24 02:37:04 INFO     [epoch-4,    70] loss: 0.235\n",
      "2021-10-24 02:37:11 INFO     EVAL - [epoch-4,    70] test_loss: 3.923 test_accuracy: 21.772\n"
     ]
    },
    {
     "name": "stdout",
     "output_type": "stream",
     "text": [
      "978.0\n",
      "4492\n"
     ]
    },
    {
     "name": "stderr",
     "output_type": "stream",
     "text": [
      "2021-10-24 02:37:14 INFO     [epoch-5,    10] loss: 0.185\n",
      "2021-10-24 02:37:20 INFO     EVAL - [epoch-5,    10] test_loss: 3.973 test_accuracy: 26.981\n"
     ]
    },
    {
     "name": "stdout",
     "output_type": "stream",
     "text": [
      "1212.0\n",
      "4492\n"
     ]
    },
    {
     "name": "stderr",
     "output_type": "stream",
     "text": [
      "2021-10-24 02:37:23 INFO     [epoch-5,    20] loss: 0.146\n",
      "2021-10-24 02:37:30 INFO     EVAL - [epoch-5,    20] test_loss: 4.613 test_accuracy: 20.793\n"
     ]
    },
    {
     "name": "stdout",
     "output_type": "stream",
     "text": [
      "934.0\n",
      "4492\n"
     ]
    },
    {
     "name": "stderr",
     "output_type": "stream",
     "text": [
      "2021-10-24 02:37:32 INFO     [epoch-5,    30] loss: 0.100\n",
      "2021-10-24 02:37:39 INFO     EVAL - [epoch-5,    30] test_loss: 4.167 test_accuracy: 25.067\n"
     ]
    },
    {
     "name": "stdout",
     "output_type": "stream",
     "text": [
      "1126.0\n",
      "4492\n"
     ]
    },
    {
     "name": "stderr",
     "output_type": "stream",
     "text": [
      "2021-10-24 02:37:41 INFO     [epoch-5,    40] loss: 0.090\n",
      "2021-10-24 02:37:48 INFO     EVAL - [epoch-5,    40] test_loss: 3.936 test_accuracy: 25.646\n"
     ]
    },
    {
     "name": "stdout",
     "output_type": "stream",
     "text": [
      "1152.0\n",
      "4492\n"
     ]
    },
    {
     "name": "stderr",
     "output_type": "stream",
     "text": [
      "2021-10-24 02:37:50 INFO     [epoch-5,    50] loss: 0.097\n",
      "2021-10-24 02:37:57 INFO     EVAL - [epoch-5,    50] test_loss: 4.382 test_accuracy: 24.510\n"
     ]
    },
    {
     "name": "stdout",
     "output_type": "stream",
     "text": [
      "1101.0\n",
      "4492\n"
     ]
    },
    {
     "name": "stderr",
     "output_type": "stream",
     "text": [
      "2021-10-24 02:37:59 INFO     [epoch-5,    60] loss: 0.098\n",
      "2021-10-24 02:38:06 INFO     EVAL - [epoch-5,    60] test_loss: 4.310 test_accuracy: 24.644\n"
     ]
    },
    {
     "name": "stdout",
     "output_type": "stream",
     "text": [
      "1107.0\n",
      "4492\n"
     ]
    },
    {
     "name": "stderr",
     "output_type": "stream",
     "text": [
      "2021-10-24 02:38:09 INFO     [epoch-5,    70] loss: 0.078\n",
      "2021-10-24 02:38:16 INFO     EVAL - [epoch-5,    70] test_loss: 4.527 test_accuracy: 24.199\n"
     ]
    },
    {
     "name": "stdout",
     "output_type": "stream",
     "text": [
      "1087.0\n",
      "4492\n"
     ]
    },
    {
     "name": "stderr",
     "output_type": "stream",
     "text": [
      "2021-10-24 02:38:18 INFO     [epoch-6,    10] loss: 0.077\n",
      "2021-10-24 02:38:25 INFO     EVAL - [epoch-6,    10] test_loss: 4.626 test_accuracy: 24.822\n"
     ]
    },
    {
     "name": "stdout",
     "output_type": "stream",
     "text": [
      "1115.0\n",
      "4492\n"
     ]
    },
    {
     "name": "stderr",
     "output_type": "stream",
     "text": [
      "2021-10-24 02:38:27 INFO     [epoch-6,    20] loss: 0.051\n",
      "2021-10-24 02:38:34 INFO     EVAL - [epoch-6,    20] test_loss: 4.308 test_accuracy: 26.647\n"
     ]
    },
    {
     "name": "stdout",
     "output_type": "stream",
     "text": [
      "1197.0\n",
      "4492\n"
     ]
    },
    {
     "name": "stderr",
     "output_type": "stream",
     "text": [
      "2021-10-24 02:38:36 INFO     [epoch-6,    30] loss: 0.040\n",
      "2021-10-24 02:38:43 INFO     EVAL - [epoch-6,    30] test_loss: 4.268 test_accuracy: 26.848\n"
     ]
    },
    {
     "name": "stdout",
     "output_type": "stream",
     "text": [
      "1206.0\n",
      "4492\n"
     ]
    },
    {
     "name": "stderr",
     "output_type": "stream",
     "text": [
      "2021-10-24 02:38:45 INFO     [epoch-6,    40] loss: 0.048\n",
      "2021-10-24 02:38:52 INFO     EVAL - [epoch-6,    40] test_loss: 4.711 test_accuracy: 23.731\n"
     ]
    },
    {
     "name": "stdout",
     "output_type": "stream",
     "text": [
      "1066.0\n",
      "4492\n"
     ]
    },
    {
     "name": "stderr",
     "output_type": "stream",
     "text": [
      "2021-10-24 02:38:55 INFO     [epoch-6,    50] loss: 0.078\n",
      "2021-10-24 02:39:02 INFO     EVAL - [epoch-6,    50] test_loss: 4.902 test_accuracy: 21.728\n"
     ]
    },
    {
     "name": "stdout",
     "output_type": "stream",
     "text": [
      "976.0\n",
      "4492\n"
     ]
    },
    {
     "name": "stderr",
     "output_type": "stream",
     "text": [
      "2021-10-24 02:39:04 INFO     [epoch-6,    60] loss: 0.043\n",
      "2021-10-24 02:39:11 INFO     EVAL - [epoch-6,    60] test_loss: 4.376 test_accuracy: 27.894\n"
     ]
    },
    {
     "name": "stdout",
     "output_type": "stream",
     "text": [
      "1253.0\n",
      "4492\n"
     ]
    },
    {
     "name": "stderr",
     "output_type": "stream",
     "text": [
      "2021-10-24 02:39:13 INFO     [epoch-6,    70] loss: 0.043\n",
      "2021-10-24 02:39:20 INFO     EVAL - [epoch-6,    70] test_loss: 5.492 test_accuracy: 22.952\n"
     ]
    },
    {
     "name": "stdout",
     "output_type": "stream",
     "text": [
      "1031.0\n",
      "4492\n"
     ]
    },
    {
     "name": "stderr",
     "output_type": "stream",
     "text": [
      "2021-10-24 02:39:23 INFO     [epoch-7,    10] loss: 0.031\n",
      "2021-10-24 02:39:29 INFO     EVAL - [epoch-7,    10] test_loss: 4.599 test_accuracy: 26.759\n"
     ]
    },
    {
     "name": "stdout",
     "output_type": "stream",
     "text": [
      "1202.0\n",
      "4492\n"
     ]
    },
    {
     "name": "stderr",
     "output_type": "stream",
     "text": [
      "2021-10-24 02:39:32 INFO     [epoch-7,    20] loss: 0.029\n",
      "2021-10-24 02:39:39 INFO     EVAL - [epoch-7,    20] test_loss: 5.101 test_accuracy: 26.247\n"
     ]
    },
    {
     "name": "stdout",
     "output_type": "stream",
     "text": [
      "1179.0\n",
      "4492\n"
     ]
    },
    {
     "name": "stderr",
     "output_type": "stream",
     "text": [
      "2021-10-24 02:39:41 INFO     [epoch-7,    30] loss: 0.022\n",
      "2021-10-24 02:39:48 INFO     EVAL - [epoch-7,    30] test_loss: 4.590 test_accuracy: 25.868\n"
     ]
    },
    {
     "name": "stdout",
     "output_type": "stream",
     "text": [
      "1162.0\n",
      "4492\n"
     ]
    },
    {
     "name": "stderr",
     "output_type": "stream",
     "text": [
      "2021-10-24 02:39:50 INFO     [epoch-7,    40] loss: 0.034\n",
      "2021-10-24 02:39:57 INFO     EVAL - [epoch-7,    40] test_loss: 4.823 test_accuracy: 27.738\n"
     ]
    },
    {
     "name": "stdout",
     "output_type": "stream",
     "text": [
      "1246.0\n",
      "4492\n"
     ]
    },
    {
     "name": "stderr",
     "output_type": "stream",
     "text": [
      "2021-10-24 02:39:59 INFO     [epoch-7,    50] loss: 0.018\n",
      "2021-10-24 02:40:06 INFO     EVAL - [epoch-7,    50] test_loss: 4.997 test_accuracy: 24.332\n"
     ]
    },
    {
     "name": "stdout",
     "output_type": "stream",
     "text": [
      "1093.0\n",
      "4492\n"
     ]
    },
    {
     "name": "stderr",
     "output_type": "stream",
     "text": [
      "2021-10-24 02:40:08 INFO     [epoch-7,    60] loss: 0.019\n",
      "2021-10-24 02:40:15 INFO     EVAL - [epoch-7,    60] test_loss: 4.815 test_accuracy: 26.002\n"
     ]
    },
    {
     "name": "stdout",
     "output_type": "stream",
     "text": [
      "1168.0\n",
      "4492\n"
     ]
    },
    {
     "name": "stderr",
     "output_type": "stream",
     "text": [
      "2021-10-24 02:40:18 INFO     [epoch-7,    70] loss: 0.015\n",
      "2021-10-24 02:40:25 INFO     EVAL - [epoch-7,    70] test_loss: 4.986 test_accuracy: 26.180\n"
     ]
    },
    {
     "name": "stdout",
     "output_type": "stream",
     "text": [
      "1176.0\n",
      "4492\n"
     ]
    },
    {
     "name": "stderr",
     "output_type": "stream",
     "text": [
      "2021-10-24 02:40:27 INFO     [epoch-8,    10] loss: 0.009\n",
      "2021-10-24 02:40:34 INFO     EVAL - [epoch-8,    10] test_loss: 4.997 test_accuracy: 25.846\n"
     ]
    },
    {
     "name": "stdout",
     "output_type": "stream",
     "text": [
      "1161.0\n",
      "4492\n"
     ]
    },
    {
     "name": "stderr",
     "output_type": "stream",
     "text": [
      "2021-10-24 02:40:36 INFO     [epoch-8,    20] loss: 0.017\n",
      "2021-10-24 02:40:43 INFO     EVAL - [epoch-8,    20] test_loss: 5.302 test_accuracy: 23.731\n"
     ]
    },
    {
     "name": "stdout",
     "output_type": "stream",
     "text": [
      "1066.0\n",
      "4492\n"
     ]
    },
    {
     "name": "stderr",
     "output_type": "stream",
     "text": [
      "2021-10-24 02:40:45 INFO     [epoch-8,    30] loss: 0.007\n",
      "2021-10-24 02:40:52 INFO     EVAL - [epoch-8,    30] test_loss: 5.225 test_accuracy: 26.113\n"
     ]
    },
    {
     "name": "stdout",
     "output_type": "stream",
     "text": [
      "1173.0\n",
      "4492\n"
     ]
    },
    {
     "name": "stderr",
     "output_type": "stream",
     "text": [
      "2021-10-24 02:40:54 INFO     [epoch-8,    40] loss: 0.021\n",
      "2021-10-24 02:41:02 INFO     EVAL - [epoch-8,    40] test_loss: 5.584 test_accuracy: 24.622\n"
     ]
    },
    {
     "name": "stdout",
     "output_type": "stream",
     "text": [
      "1106.0\n",
      "4492\n"
     ]
    },
    {
     "name": "stderr",
     "output_type": "stream",
     "text": [
      "2021-10-24 02:41:04 INFO     [epoch-8,    50] loss: 0.011\n",
      "2021-10-24 02:41:11 INFO     EVAL - [epoch-8,    50] test_loss: 5.242 test_accuracy: 25.289\n"
     ]
    },
    {
     "name": "stdout",
     "output_type": "stream",
     "text": [
      "1136.0\n",
      "4492\n"
     ]
    },
    {
     "name": "stderr",
     "output_type": "stream",
     "text": [
      "2021-10-24 02:41:13 INFO     [epoch-8,    60] loss: 0.017\n",
      "2021-10-24 02:41:20 INFO     EVAL - [epoch-8,    60] test_loss: 5.260 test_accuracy: 26.180\n"
     ]
    },
    {
     "name": "stdout",
     "output_type": "stream",
     "text": [
      "1176.0\n",
      "4492\n"
     ]
    },
    {
     "name": "stderr",
     "output_type": "stream",
     "text": [
      "2021-10-24 02:41:22 INFO     [epoch-8,    70] loss: 0.009\n",
      "2021-10-24 02:41:29 INFO     EVAL - [epoch-8,    70] test_loss: 5.286 test_accuracy: 25.690\n"
     ]
    },
    {
     "name": "stdout",
     "output_type": "stream",
     "text": [
      "1154.0\n",
      "4492\n"
     ]
    },
    {
     "name": "stderr",
     "output_type": "stream",
     "text": [
      "2021-10-24 02:41:31 INFO     [epoch-9,    10] loss: 0.005\n",
      "2021-10-24 02:41:38 INFO     EVAL - [epoch-9,    10] test_loss: 5.519 test_accuracy: 24.911\n"
     ]
    },
    {
     "name": "stdout",
     "output_type": "stream",
     "text": [
      "1119.0\n",
      "4492\n"
     ]
    },
    {
     "name": "stderr",
     "output_type": "stream",
     "text": [
      "2021-10-24 02:41:41 INFO     [epoch-9,    20] loss: 0.014\n",
      "2021-10-24 02:41:48 INFO     EVAL - [epoch-9,    20] test_loss: 5.605 test_accuracy: 26.714\n"
     ]
    },
    {
     "name": "stdout",
     "output_type": "stream",
     "text": [
      "1200.0\n",
      "4492\n"
     ]
    },
    {
     "name": "stderr",
     "output_type": "stream",
     "text": [
      "2021-10-24 02:41:50 INFO     [epoch-9,    30] loss: 0.015\n",
      "2021-10-24 02:41:57 INFO     EVAL - [epoch-9,    30] test_loss: 6.587 test_accuracy: 30.120\n"
     ]
    },
    {
     "name": "stdout",
     "output_type": "stream",
     "text": [
      "1353.0\n",
      "4492\n"
     ]
    },
    {
     "name": "stderr",
     "output_type": "stream",
     "text": [
      "2021-10-24 02:41:59 INFO     [epoch-9,    40] loss: 0.114\n",
      "2021-10-24 02:42:06 INFO     EVAL - [epoch-9,    40] test_loss: 6.841 test_accuracy: 30.410\n"
     ]
    },
    {
     "name": "stdout",
     "output_type": "stream",
     "text": [
      "1366.0\n",
      "4492\n"
     ]
    },
    {
     "name": "stderr",
     "output_type": "stream",
     "text": [
      "2021-10-24 02:42:09 INFO     [epoch-9,    50] loss: 0.038\n",
      "2021-10-24 02:42:16 INFO     EVAL - [epoch-9,    50] test_loss: 5.173 test_accuracy: 25.980\n"
     ]
    },
    {
     "name": "stdout",
     "output_type": "stream",
     "text": [
      "1167.0\n",
      "4492\n"
     ]
    },
    {
     "name": "stderr",
     "output_type": "stream",
     "text": [
      "2021-10-24 02:42:18 INFO     [epoch-9,    60] loss: 0.021\n",
      "2021-10-24 02:42:25 INFO     EVAL - [epoch-9,    60] test_loss: 5.321 test_accuracy: 25.712\n"
     ]
    },
    {
     "name": "stdout",
     "output_type": "stream",
     "text": [
      "1155.0\n",
      "4492\n"
     ]
    },
    {
     "name": "stderr",
     "output_type": "stream",
     "text": [
      "2021-10-24 02:42:27 INFO     [epoch-9,    70] loss: 0.014\n",
      "2021-10-24 02:42:34 INFO     EVAL - [epoch-9,    70] test_loss: 5.362 test_accuracy: 24.933\n"
     ]
    },
    {
     "name": "stdout",
     "output_type": "stream",
     "text": [
      "1120.0\n",
      "4492\n"
     ]
    },
    {
     "name": "stderr",
     "output_type": "stream",
     "text": [
      "2021-10-24 02:42:37 INFO     [epoch-10,    10] loss: 0.032\n",
      "2021-10-24 02:42:44 INFO     EVAL - [epoch-10,    10] test_loss: 6.847 test_accuracy: 22.974\n"
     ]
    },
    {
     "name": "stdout",
     "output_type": "stream",
     "text": [
      "1032.0\n",
      "4492\n"
     ]
    },
    {
     "name": "stderr",
     "output_type": "stream",
     "text": [
      "2021-10-24 02:42:46 INFO     [epoch-10,    20] loss: 0.023\n",
      "2021-10-24 02:42:53 INFO     EVAL - [epoch-10,    20] test_loss: 5.960 test_accuracy: 26.202\n"
     ]
    },
    {
     "name": "stdout",
     "output_type": "stream",
     "text": [
      "1177.0\n",
      "4492\n"
     ]
    },
    {
     "name": "stderr",
     "output_type": "stream",
     "text": [
      "2021-10-24 02:42:55 INFO     [epoch-10,    30] loss: 0.020\n",
      "2021-10-24 02:43:02 INFO     EVAL - [epoch-10,    30] test_loss: 5.338 test_accuracy: 24.221\n"
     ]
    },
    {
     "name": "stdout",
     "output_type": "stream",
     "text": [
      "1088.0\n",
      "4492\n"
     ]
    },
    {
     "name": "stderr",
     "output_type": "stream",
     "text": [
      "2021-10-24 02:43:04 INFO     [epoch-10,    40] loss: 0.025\n",
      "2021-10-24 02:43:11 INFO     EVAL - [epoch-10,    40] test_loss: 5.926 test_accuracy: 24.510\n"
     ]
    },
    {
     "name": "stdout",
     "output_type": "stream",
     "text": [
      "1101.0\n",
      "4492\n"
     ]
    },
    {
     "name": "stderr",
     "output_type": "stream",
     "text": [
      "2021-10-24 02:43:14 INFO     [epoch-10,    50] loss: 0.035\n",
      "2021-10-24 02:43:20 INFO     EVAL - [epoch-10,    50] test_loss: 5.250 test_accuracy: 27.449\n"
     ]
    },
    {
     "name": "stdout",
     "output_type": "stream",
     "text": [
      "1233.0\n",
      "4492\n"
     ]
    },
    {
     "name": "stderr",
     "output_type": "stream",
     "text": [
      "2021-10-24 02:43:23 INFO     [epoch-10,    60] loss: 0.022\n",
      "2021-10-24 02:43:30 INFO     EVAL - [epoch-10,    60] test_loss: 6.165 test_accuracy: 26.135\n"
     ]
    },
    {
     "name": "stdout",
     "output_type": "stream",
     "text": [
      "1174.0\n",
      "4492\n"
     ]
    },
    {
     "name": "stderr",
     "output_type": "stream",
     "text": [
      "2021-10-24 02:43:32 INFO     [epoch-10,    70] loss: 0.019\n",
      "2021-10-24 02:43:39 INFO     EVAL - [epoch-10,    70] test_loss: 5.878 test_accuracy: 27.048\n"
     ]
    },
    {
     "name": "stdout",
     "output_type": "stream",
     "text": [
      "1215.0\n",
      "4492\n"
     ]
    },
    {
     "name": "stderr",
     "output_type": "stream",
     "text": [
      "2021-10-24 02:43:41 INFO     [epoch-11,    10] loss: 0.025\n",
      "2021-10-24 02:43:48 INFO     EVAL - [epoch-11,    10] test_loss: 6.029 test_accuracy: 29.007\n"
     ]
    },
    {
     "name": "stdout",
     "output_type": "stream",
     "text": [
      "1303.0\n",
      "4492\n"
     ]
    },
    {
     "name": "stderr",
     "output_type": "stream",
     "text": [
      "2021-10-24 02:43:50 INFO     [epoch-11,    20] loss: 0.033\n",
      "2021-10-24 02:43:57 INFO     EVAL - [epoch-11,    20] test_loss: 5.533 test_accuracy: 25.579\n"
     ]
    },
    {
     "name": "stdout",
     "output_type": "stream",
     "text": [
      "1149.0\n",
      "4492\n"
     ]
    },
    {
     "name": "stderr",
     "output_type": "stream",
     "text": [
      "2021-10-24 02:44:00 INFO     [epoch-11,    30] loss: 0.022\n",
      "2021-10-24 02:44:06 INFO     EVAL - [epoch-11,    30] test_loss: 5.374 test_accuracy: 28.451\n"
     ]
    },
    {
     "name": "stdout",
     "output_type": "stream",
     "text": [
      "1278.0\n",
      "4492\n"
     ]
    },
    {
     "name": "stderr",
     "output_type": "stream",
     "text": [
      "2021-10-24 02:44:09 INFO     [epoch-11,    40] loss: 0.020\n",
      "2021-10-24 02:44:16 INFO     EVAL - [epoch-11,    40] test_loss: 5.767 test_accuracy: 24.488\n"
     ]
    },
    {
     "name": "stdout",
     "output_type": "stream",
     "text": [
      "1100.0\n",
      "4492\n"
     ]
    },
    {
     "name": "stderr",
     "output_type": "stream",
     "text": [
      "2021-10-24 02:44:18 INFO     [epoch-11,    50] loss: 0.024\n",
      "2021-10-24 02:44:25 INFO     EVAL - [epoch-11,    50] test_loss: 6.384 test_accuracy: 23.375\n"
     ]
    },
    {
     "name": "stdout",
     "output_type": "stream",
     "text": [
      "1050.0\n",
      "4492\n"
     ]
    },
    {
     "name": "stderr",
     "output_type": "stream",
     "text": [
      "2021-10-24 02:44:27 INFO     [epoch-11,    60] loss: 0.046\n",
      "2021-10-24 02:44:34 INFO     EVAL - [epoch-11,    60] test_loss: 6.506 test_accuracy: 21.750\n"
     ]
    },
    {
     "name": "stdout",
     "output_type": "stream",
     "text": [
      "977.0\n",
      "4492\n"
     ]
    },
    {
     "name": "stderr",
     "output_type": "stream",
     "text": [
      "2021-10-24 02:44:36 INFO     [epoch-11,    70] loss: 0.034\n",
      "2021-10-24 02:44:43 INFO     EVAL - [epoch-11,    70] test_loss: 5.596 test_accuracy: 24.622\n"
     ]
    },
    {
     "name": "stdout",
     "output_type": "stream",
     "text": [
      "1106.0\n",
      "4492\n"
     ]
    },
    {
     "name": "stderr",
     "output_type": "stream",
     "text": [
      "2021-10-24 02:44:46 INFO     [epoch-12,    10] loss: 0.040\n",
      "2021-10-24 02:44:52 INFO     EVAL - [epoch-12,    10] test_loss: 6.574 test_accuracy: 28.562\n"
     ]
    },
    {
     "name": "stdout",
     "output_type": "stream",
     "text": [
      "1283.0\n",
      "4492\n"
     ]
    },
    {
     "name": "stderr",
     "output_type": "stream",
     "text": [
      "2021-10-24 02:44:55 INFO     [epoch-12,    20] loss: 0.019\n",
      "2021-10-24 02:45:02 INFO     EVAL - [epoch-12,    20] test_loss: 5.478 test_accuracy: 25.957\n"
     ]
    },
    {
     "name": "stdout",
     "output_type": "stream",
     "text": [
      "1166.0\n",
      "4492\n"
     ]
    },
    {
     "name": "stderr",
     "output_type": "stream",
     "text": [
      "2021-10-24 02:45:04 INFO     [epoch-12,    30] loss: 0.021\n",
      "2021-10-24 02:45:11 INFO     EVAL - [epoch-12,    30] test_loss: 6.279 test_accuracy: 26.625\n"
     ]
    },
    {
     "name": "stdout",
     "output_type": "stream",
     "text": [
      "1196.0\n",
      "4492\n"
     ]
    },
    {
     "name": "stderr",
     "output_type": "stream",
     "text": [
      "2021-10-24 02:45:13 INFO     [epoch-12,    40] loss: 0.012\n",
      "2021-10-24 02:45:20 INFO     EVAL - [epoch-12,    40] test_loss: 6.050 test_accuracy: 26.803\n"
     ]
    },
    {
     "name": "stdout",
     "output_type": "stream",
     "text": [
      "1204.0\n",
      "4492\n"
     ]
    },
    {
     "name": "stderr",
     "output_type": "stream",
     "text": [
      "2021-10-24 02:45:22 INFO     [epoch-12,    50] loss: 0.009\n",
      "2021-10-24 02:45:29 INFO     EVAL - [epoch-12,    50] test_loss: 5.975 test_accuracy: 25.134\n"
     ]
    },
    {
     "name": "stdout",
     "output_type": "stream",
     "text": [
      "1129.0\n",
      "4492\n"
     ]
    },
    {
     "name": "stderr",
     "output_type": "stream",
     "text": [
      "2021-10-24 02:45:32 INFO     [epoch-12,    60] loss: 0.008\n",
      "2021-10-24 02:45:39 INFO     EVAL - [epoch-12,    60] test_loss: 5.802 test_accuracy: 25.957\n"
     ]
    },
    {
     "name": "stdout",
     "output_type": "stream",
     "text": [
      "1166.0\n",
      "4492\n"
     ]
    },
    {
     "name": "stderr",
     "output_type": "stream",
     "text": [
      "2021-10-24 02:45:41 INFO     [epoch-12,    70] loss: 0.018\n",
      "2021-10-24 02:45:48 INFO     EVAL - [epoch-12,    70] test_loss: 6.144 test_accuracy: 26.180\n"
     ]
    },
    {
     "name": "stdout",
     "output_type": "stream",
     "text": [
      "1176.0\n",
      "4492\n"
     ]
    },
    {
     "name": "stderr",
     "output_type": "stream",
     "text": [
      "2021-10-24 02:45:50 INFO     [epoch-13,    10] loss: 0.008\n",
      "2021-10-24 02:45:57 INFO     EVAL - [epoch-13,    10] test_loss: 6.281 test_accuracy: 24.666\n"
     ]
    },
    {
     "name": "stdout",
     "output_type": "stream",
     "text": [
      "1108.0\n",
      "4492\n"
     ]
    },
    {
     "name": "stderr",
     "output_type": "stream",
     "text": [
      "2021-10-24 02:45:59 INFO     [epoch-13,    20] loss: 0.011\n",
      "2021-10-24 02:46:06 INFO     EVAL - [epoch-13,    20] test_loss: 6.705 test_accuracy: 23.687\n"
     ]
    },
    {
     "name": "stdout",
     "output_type": "stream",
     "text": [
      "1064.0\n",
      "4492\n"
     ]
    },
    {
     "name": "stderr",
     "output_type": "stream",
     "text": [
      "2021-10-24 02:46:08 INFO     [epoch-13,    30] loss: 0.007\n",
      "2021-10-24 02:46:15 INFO     EVAL - [epoch-13,    30] test_loss: 6.072 test_accuracy: 23.931\n"
     ]
    },
    {
     "name": "stdout",
     "output_type": "stream",
     "text": [
      "1075.0\n",
      "4492\n"
     ]
    },
    {
     "name": "stderr",
     "output_type": "stream",
     "text": [
      "2021-10-24 02:46:18 INFO     [epoch-13,    40] loss: 0.006\n",
      "2021-10-24 02:46:25 INFO     EVAL - [epoch-13,    40] test_loss: 5.982 test_accuracy: 26.425\n"
     ]
    },
    {
     "name": "stdout",
     "output_type": "stream",
     "text": [
      "1187.0\n",
      "4492\n"
     ]
    },
    {
     "name": "stderr",
     "output_type": "stream",
     "text": [
      "2021-10-24 02:46:27 INFO     [epoch-13,    50] loss: 0.012\n",
      "2021-10-24 02:46:34 INFO     EVAL - [epoch-13,    50] test_loss: 5.766 test_accuracy: 25.913\n"
     ]
    },
    {
     "name": "stdout",
     "output_type": "stream",
     "text": [
      "1164.0\n",
      "4492\n"
     ]
    },
    {
     "name": "stderr",
     "output_type": "stream",
     "text": [
      "2021-10-24 02:46:36 INFO     [epoch-13,    60] loss: 0.016\n",
      "2021-10-24 02:46:43 INFO     EVAL - [epoch-13,    60] test_loss: 6.215 test_accuracy: 26.825\n"
     ]
    },
    {
     "name": "stdout",
     "output_type": "stream",
     "text": [
      "1205.0\n",
      "4492\n"
     ]
    },
    {
     "name": "stderr",
     "output_type": "stream",
     "text": [
      "2021-10-24 02:46:45 INFO     [epoch-13,    70] loss: 0.017\n",
      "2021-10-24 02:46:52 INFO     EVAL - [epoch-13,    70] test_loss: 6.668 test_accuracy: 23.664\n"
     ]
    },
    {
     "name": "stdout",
     "output_type": "stream",
     "text": [
      "1063.0\n",
      "4492\n"
     ]
    },
    {
     "name": "stderr",
     "output_type": "stream",
     "text": [
      "2021-10-24 02:46:54 INFO     [epoch-14,    10] loss: 0.009\n",
      "2021-10-24 02:47:01 INFO     EVAL - [epoch-14,    10] test_loss: 6.132 test_accuracy: 23.063\n"
     ]
    },
    {
     "name": "stdout",
     "output_type": "stream",
     "text": [
      "1036.0\n",
      "4492\n"
     ]
    },
    {
     "name": "stderr",
     "output_type": "stream",
     "text": [
      "2021-10-24 02:47:04 INFO     [epoch-14,    20] loss: 0.010\n",
      "2021-10-24 02:47:11 INFO     EVAL - [epoch-14,    20] test_loss: 6.481 test_accuracy: 25.334\n"
     ]
    },
    {
     "name": "stdout",
     "output_type": "stream",
     "text": [
      "1138.0\n",
      "4492\n"
     ]
    },
    {
     "name": "stderr",
     "output_type": "stream",
     "text": [
      "2021-10-24 02:47:13 INFO     [epoch-14,    30] loss: 0.005\n",
      "2021-10-24 02:47:20 INFO     EVAL - [epoch-14,    30] test_loss: 6.032 test_accuracy: 27.248\n"
     ]
    },
    {
     "name": "stdout",
     "output_type": "stream",
     "text": [
      "1224.0\n",
      "4492\n"
     ]
    },
    {
     "name": "stderr",
     "output_type": "stream",
     "text": [
      "2021-10-24 02:47:22 INFO     [epoch-14,    40] loss: 0.011\n",
      "2021-10-24 02:47:29 INFO     EVAL - [epoch-14,    40] test_loss: 6.181 test_accuracy: 25.378\n"
     ]
    },
    {
     "name": "stdout",
     "output_type": "stream",
     "text": [
      "1140.0\n",
      "4492\n"
     ]
    },
    {
     "name": "stderr",
     "output_type": "stream",
     "text": [
      "2021-10-24 02:47:31 INFO     [epoch-14,    50] loss: 0.006\n",
      "2021-10-24 02:47:38 INFO     EVAL - [epoch-14,    50] test_loss: 6.932 test_accuracy: 24.711\n"
     ]
    },
    {
     "name": "stdout",
     "output_type": "stream",
     "text": [
      "1110.0\n",
      "4492\n"
     ]
    },
    {
     "name": "stderr",
     "output_type": "stream",
     "text": [
      "2021-10-24 02:47:40 INFO     [epoch-14,    60] loss: 0.015\n",
      "2021-10-24 02:47:47 INFO     EVAL - [epoch-14,    60] test_loss: 6.454 test_accuracy: 24.377\n"
     ]
    },
    {
     "name": "stdout",
     "output_type": "stream",
     "text": [
      "1095.0\n",
      "4492\n"
     ]
    },
    {
     "name": "stderr",
     "output_type": "stream",
     "text": [
      "2021-10-24 02:47:50 INFO     [epoch-14,    70] loss: 0.026\n",
      "2021-10-24 02:47:57 INFO     EVAL - [epoch-14,    70] test_loss: 7.391 test_accuracy: 22.061\n"
     ]
    },
    {
     "name": "stdout",
     "output_type": "stream",
     "text": [
      "991.0\n",
      "4492\n"
     ]
    },
    {
     "name": "stderr",
     "output_type": "stream",
     "text": [
      "2021-10-24 02:47:59 INFO     [epoch-15,    10] loss: 0.011\n",
      "2021-10-24 02:48:06 INFO     EVAL - [epoch-15,    10] test_loss: 5.937 test_accuracy: 27.538\n"
     ]
    },
    {
     "name": "stdout",
     "output_type": "stream",
     "text": [
      "1237.0\n",
      "4492\n"
     ]
    },
    {
     "name": "stderr",
     "output_type": "stream",
     "text": [
      "2021-10-24 02:48:08 INFO     [epoch-15,    20] loss: 0.020\n",
      "2021-10-24 02:48:15 INFO     EVAL - [epoch-15,    20] test_loss: 6.899 test_accuracy: 24.221\n"
     ]
    },
    {
     "name": "stdout",
     "output_type": "stream",
     "text": [
      "1088.0\n",
      "4492\n"
     ]
    },
    {
     "name": "stderr",
     "output_type": "stream",
     "text": [
      "2021-10-24 02:48:17 INFO     [epoch-15,    30] loss: 0.014\n",
      "2021-10-24 02:48:24 INFO     EVAL - [epoch-15,    30] test_loss: 6.609 test_accuracy: 26.224\n"
     ]
    },
    {
     "name": "stdout",
     "output_type": "stream",
     "text": [
      "1178.0\n",
      "4492\n"
     ]
    },
    {
     "name": "stderr",
     "output_type": "stream",
     "text": [
      "2021-10-24 02:48:27 INFO     [epoch-15,    40] loss: 0.009\n",
      "2021-10-24 02:48:33 INFO     EVAL - [epoch-15,    40] test_loss: 6.016 test_accuracy: 26.825\n"
     ]
    },
    {
     "name": "stdout",
     "output_type": "stream",
     "text": [
      "1205.0\n",
      "4492\n"
     ]
    },
    {
     "name": "stderr",
     "output_type": "stream",
     "text": [
      "2021-10-24 02:48:36 INFO     [epoch-15,    50] loss: 0.017\n",
      "2021-10-24 02:48:43 INFO     EVAL - [epoch-15,    50] test_loss: 6.430 test_accuracy: 25.445\n"
     ]
    },
    {
     "name": "stdout",
     "output_type": "stream",
     "text": [
      "1143.0\n",
      "4492\n"
     ]
    },
    {
     "name": "stderr",
     "output_type": "stream",
     "text": [
      "2021-10-24 02:48:45 INFO     [epoch-15,    60] loss: 0.012\n",
      "2021-10-24 02:48:52 INFO     EVAL - [epoch-15,    60] test_loss: 6.627 test_accuracy: 24.688\n"
     ]
    },
    {
     "name": "stdout",
     "output_type": "stream",
     "text": [
      "1109.0\n",
      "4492\n"
     ]
    },
    {
     "name": "stderr",
     "output_type": "stream",
     "text": [
      "2021-10-24 02:48:54 INFO     [epoch-15,    70] loss: 0.008\n",
      "2021-10-24 02:49:01 INFO     EVAL - [epoch-15,    70] test_loss: 6.282 test_accuracy: 27.337\n"
     ]
    },
    {
     "name": "stdout",
     "output_type": "stream",
     "text": [
      "1228.0\n",
      "4492\n"
     ]
    },
    {
     "name": "stderr",
     "output_type": "stream",
     "text": [
      "2021-10-24 02:49:03 INFO     [epoch-16,    10] loss: 0.012\n",
      "2021-10-24 02:49:10 INFO     EVAL - [epoch-16,    10] test_loss: 6.590 test_accuracy: 23.865\n"
     ]
    },
    {
     "name": "stdout",
     "output_type": "stream",
     "text": [
      "1072.0\n",
      "4492\n"
     ]
    },
    {
     "name": "stderr",
     "output_type": "stream",
     "text": [
      "2021-10-24 02:49:13 INFO     [epoch-16,    20] loss: 0.011\n",
      "2021-10-24 02:49:20 INFO     EVAL - [epoch-16,    20] test_loss: 6.470 test_accuracy: 27.493\n"
     ]
    },
    {
     "name": "stdout",
     "output_type": "stream",
     "text": [
      "1235.0\n",
      "4492\n"
     ]
    },
    {
     "name": "stderr",
     "output_type": "stream",
     "text": [
      "2021-10-24 02:49:22 INFO     [epoch-16,    30] loss: 0.006\n",
      "2021-10-24 02:49:29 INFO     EVAL - [epoch-16,    30] test_loss: 6.157 test_accuracy: 25.846\n"
     ]
    },
    {
     "name": "stdout",
     "output_type": "stream",
     "text": [
      "1161.0\n",
      "4492\n"
     ]
    },
    {
     "name": "stderr",
     "output_type": "stream",
     "text": [
      "2021-10-24 02:49:31 INFO     [epoch-16,    40] loss: 0.009\n",
      "2021-10-24 02:49:38 INFO     EVAL - [epoch-16,    40] test_loss: 6.572 test_accuracy: 24.132\n"
     ]
    },
    {
     "name": "stdout",
     "output_type": "stream",
     "text": [
      "1084.0\n",
      "4492\n"
     ]
    },
    {
     "name": "stderr",
     "output_type": "stream",
     "text": [
      "2021-10-24 02:49:40 INFO     [epoch-16,    50] loss: 0.013\n",
      "2021-10-24 02:49:47 INFO     EVAL - [epoch-16,    50] test_loss: 6.977 test_accuracy: 26.803\n"
     ]
    },
    {
     "name": "stdout",
     "output_type": "stream",
     "text": [
      "1204.0\n",
      "4492\n"
     ]
    },
    {
     "name": "stderr",
     "output_type": "stream",
     "text": [
      "2021-10-24 02:49:49 INFO     [epoch-16,    60] loss: 0.025\n",
      "2021-10-24 02:49:56 INFO     EVAL - [epoch-16,    60] test_loss: 6.537 test_accuracy: 24.822\n"
     ]
    },
    {
     "name": "stdout",
     "output_type": "stream",
     "text": [
      "1115.0\n",
      "4492\n"
     ]
    },
    {
     "name": "stderr",
     "output_type": "stream",
     "text": [
      "2021-10-24 02:49:59 INFO     [epoch-16,    70] loss: 0.032\n",
      "2021-10-24 02:50:06 INFO     EVAL - [epoch-16,    70] test_loss: 6.721 test_accuracy: 24.265\n"
     ]
    },
    {
     "name": "stdout",
     "output_type": "stream",
     "text": [
      "1090.0\n",
      "4492\n"
     ]
    },
    {
     "name": "stderr",
     "output_type": "stream",
     "text": [
      "2021-10-24 02:50:08 INFO     [epoch-17,    10] loss: 0.007\n",
      "2021-10-24 02:50:15 INFO     EVAL - [epoch-17,    10] test_loss: 7.036 test_accuracy: 24.688\n"
     ]
    },
    {
     "name": "stdout",
     "output_type": "stream",
     "text": [
      "1109.0\n",
      "4492\n"
     ]
    },
    {
     "name": "stderr",
     "output_type": "stream",
     "text": [
      "2021-10-24 02:50:17 INFO     [epoch-17,    20] loss: 0.005\n",
      "2021-10-24 02:50:24 INFO     EVAL - [epoch-17,    20] test_loss: 6.249 test_accuracy: 24.488\n"
     ]
    },
    {
     "name": "stdout",
     "output_type": "stream",
     "text": [
      "1100.0\n",
      "4492\n"
     ]
    },
    {
     "name": "stderr",
     "output_type": "stream",
     "text": [
      "2021-10-24 02:50:26 INFO     [epoch-17,    30] loss: 0.009\n",
      "2021-10-24 02:50:33 INFO     EVAL - [epoch-17,    30] test_loss: 6.229 test_accuracy: 27.315\n"
     ]
    },
    {
     "name": "stdout",
     "output_type": "stream",
     "text": [
      "1227.0\n",
      "4492\n"
     ]
    },
    {
     "name": "stderr",
     "output_type": "stream",
     "text": [
      "2021-10-24 02:50:35 INFO     [epoch-17,    40] loss: 0.003\n",
      "2021-10-24 02:50:42 INFO     EVAL - [epoch-17,    40] test_loss: 6.338 test_accuracy: 25.712\n"
     ]
    },
    {
     "name": "stdout",
     "output_type": "stream",
     "text": [
      "1155.0\n",
      "4492\n"
     ]
    },
    {
     "name": "stderr",
     "output_type": "stream",
     "text": [
      "2021-10-24 02:50:45 INFO     [epoch-17,    50] loss: 0.004\n",
      "2021-10-24 02:50:52 INFO     EVAL - [epoch-17,    50] test_loss: 6.837 test_accuracy: 26.269\n"
     ]
    },
    {
     "name": "stdout",
     "output_type": "stream",
     "text": [
      "1180.0\n",
      "4492\n"
     ]
    },
    {
     "name": "stderr",
     "output_type": "stream",
     "text": [
      "2021-10-24 02:50:54 INFO     [epoch-17,    60] loss: 0.003\n",
      "2021-10-24 02:51:01 INFO     EVAL - [epoch-17,    60] test_loss: 6.511 test_accuracy: 25.712\n"
     ]
    },
    {
     "name": "stdout",
     "output_type": "stream",
     "text": [
      "1155.0\n",
      "4492\n"
     ]
    },
    {
     "name": "stderr",
     "output_type": "stream",
     "text": [
      "2021-10-24 02:51:03 INFO     [epoch-17,    70] loss: 0.002\n",
      "2021-10-24 02:51:10 INFO     EVAL - [epoch-17,    70] test_loss: 6.370 test_accuracy: 27.137\n"
     ]
    },
    {
     "name": "stdout",
     "output_type": "stream",
     "text": [
      "1219.0\n",
      "4492\n"
     ]
    },
    {
     "name": "stderr",
     "output_type": "stream",
     "text": [
      "2021-10-24 02:51:13 INFO     [epoch-18,    10] loss: 0.002\n",
      "2021-10-24 02:51:19 INFO     EVAL - [epoch-18,    10] test_loss: 6.408 test_accuracy: 27.671\n"
     ]
    },
    {
     "name": "stdout",
     "output_type": "stream",
     "text": [
      "1243.0\n",
      "4492\n"
     ]
    },
    {
     "name": "stderr",
     "output_type": "stream",
     "text": [
      "2021-10-24 02:51:22 INFO     [epoch-18,    20] loss: 0.001\n",
      "2021-10-24 02:51:29 INFO     EVAL - [epoch-18,    20] test_loss: 6.503 test_accuracy: 26.759\n"
     ]
    },
    {
     "name": "stdout",
     "output_type": "stream",
     "text": [
      "1202.0\n",
      "4492\n"
     ]
    },
    {
     "name": "stderr",
     "output_type": "stream",
     "text": [
      "2021-10-24 02:51:31 INFO     [epoch-18,    30] loss: 0.001\n",
      "2021-10-24 02:51:38 INFO     EVAL - [epoch-18,    30] test_loss: 6.591 test_accuracy: 26.269\n"
     ]
    },
    {
     "name": "stdout",
     "output_type": "stream",
     "text": [
      "1180.0\n",
      "4492\n"
     ]
    },
    {
     "name": "stderr",
     "output_type": "stream",
     "text": [
      "2021-10-24 02:51:40 INFO     [epoch-18,    40] loss: 0.001\n",
      "2021-10-24 02:51:47 INFO     EVAL - [epoch-18,    40] test_loss: 6.670 test_accuracy: 26.336\n"
     ]
    },
    {
     "name": "stdout",
     "output_type": "stream",
     "text": [
      "1183.0\n",
      "4492\n"
     ]
    },
    {
     "name": "stderr",
     "output_type": "stream",
     "text": [
      "2021-10-24 02:51:49 INFO     [epoch-18,    50] loss: 0.012\n",
      "2021-10-24 02:51:56 INFO     EVAL - [epoch-18,    50] test_loss: 7.180 test_accuracy: 27.738\n"
     ]
    },
    {
     "name": "stdout",
     "output_type": "stream",
     "text": [
      "1246.0\n",
      "4492\n"
     ]
    },
    {
     "name": "stderr",
     "output_type": "stream",
     "text": [
      "2021-10-24 02:51:58 INFO     [epoch-18,    60] loss: 0.014\n",
      "2021-10-24 02:52:05 INFO     EVAL - [epoch-18,    60] test_loss: 7.139 test_accuracy: 26.024\n"
     ]
    },
    {
     "name": "stdout",
     "output_type": "stream",
     "text": [
      "1169.0\n",
      "4492\n"
     ]
    },
    {
     "name": "stderr",
     "output_type": "stream",
     "text": [
      "2021-10-24 02:52:08 INFO     [epoch-18,    70] loss: 0.009\n",
      "2021-10-24 02:52:15 INFO     EVAL - [epoch-18,    70] test_loss: 6.652 test_accuracy: 26.158\n"
     ]
    },
    {
     "name": "stdout",
     "output_type": "stream",
     "text": [
      "1175.0\n",
      "4492\n"
     ]
    },
    {
     "name": "stderr",
     "output_type": "stream",
     "text": [
      "2021-10-24 02:52:17 INFO     [epoch-19,    10] loss: 0.014\n",
      "2021-10-24 02:52:24 INFO     EVAL - [epoch-19,    10] test_loss: 6.963 test_accuracy: 24.666\n"
     ]
    },
    {
     "name": "stdout",
     "output_type": "stream",
     "text": [
      "1108.0\n",
      "4492\n"
     ]
    },
    {
     "name": "stderr",
     "output_type": "stream",
     "text": [
      "2021-10-24 02:52:26 INFO     [epoch-19,    20] loss: 0.005\n",
      "2021-10-24 02:52:33 INFO     EVAL - [epoch-19,    20] test_loss: 7.324 test_accuracy: 28.317\n"
     ]
    },
    {
     "name": "stdout",
     "output_type": "stream",
     "text": [
      "1272.0\n",
      "4492\n"
     ]
    },
    {
     "name": "stderr",
     "output_type": "stream",
     "text": [
      "2021-10-24 02:52:35 INFO     [epoch-19,    30] loss: 0.009\n",
      "2021-10-24 02:52:42 INFO     EVAL - [epoch-19,    30] test_loss: 6.910 test_accuracy: 24.265\n"
     ]
    },
    {
     "name": "stdout",
     "output_type": "stream",
     "text": [
      "1090.0\n",
      "4492\n"
     ]
    },
    {
     "name": "stderr",
     "output_type": "stream",
     "text": [
      "2021-10-24 02:52:45 INFO     [epoch-19,    40] loss: 0.003\n",
      "2021-10-24 02:52:51 INFO     EVAL - [epoch-19,    40] test_loss: 6.554 test_accuracy: 26.313\n"
     ]
    },
    {
     "name": "stdout",
     "output_type": "stream",
     "text": [
      "1182.0\n",
      "4492\n"
     ]
    },
    {
     "name": "stderr",
     "output_type": "stream",
     "text": [
      "2021-10-24 02:52:54 INFO     [epoch-19,    50] loss: 0.002\n",
      "2021-10-24 02:53:01 INFO     EVAL - [epoch-19,    50] test_loss: 6.638 test_accuracy: 27.404\n"
     ]
    },
    {
     "name": "stdout",
     "output_type": "stream",
     "text": [
      "1231.0\n",
      "4492\n"
     ]
    },
    {
     "name": "stderr",
     "output_type": "stream",
     "text": [
      "2021-10-24 02:53:03 INFO     [epoch-19,    60] loss: 0.005\n",
      "2021-10-24 02:53:10 INFO     EVAL - [epoch-19,    60] test_loss: 7.046 test_accuracy: 28.851\n"
     ]
    },
    {
     "name": "stdout",
     "output_type": "stream",
     "text": [
      "1296.0\n",
      "4492\n"
     ]
    },
    {
     "name": "stderr",
     "output_type": "stream",
     "text": [
      "2021-10-24 02:53:12 INFO     [epoch-19,    70] loss: 0.003\n",
      "2021-10-24 02:53:19 INFO     EVAL - [epoch-19,    70] test_loss: 6.748 test_accuracy: 27.226\n"
     ]
    },
    {
     "name": "stdout",
     "output_type": "stream",
     "text": [
      "1223.0\n",
      "4492\n"
     ]
    },
    {
     "name": "stderr",
     "output_type": "stream",
     "text": [
      "2021-10-24 02:53:21 INFO     [epoch-20,    10] loss: 0.003\n",
      "2021-10-24 02:53:28 INFO     EVAL - [epoch-20,    10] test_loss: 7.077 test_accuracy: 24.377\n"
     ]
    },
    {
     "name": "stdout",
     "output_type": "stream",
     "text": [
      "1095.0\n",
      "4492\n"
     ]
    },
    {
     "name": "stderr",
     "output_type": "stream",
     "text": [
      "2021-10-24 02:53:31 INFO     [epoch-20,    20] loss: 0.007\n",
      "2021-10-24 02:53:38 INFO     EVAL - [epoch-20,    20] test_loss: 7.009 test_accuracy: 26.915\n"
     ]
    },
    {
     "name": "stdout",
     "output_type": "stream",
     "text": [
      "1209.0\n",
      "4492\n"
     ]
    },
    {
     "name": "stderr",
     "output_type": "stream",
     "text": [
      "2021-10-24 02:53:40 INFO     [epoch-20,    30] loss: 0.026\n",
      "2021-10-24 02:53:47 INFO     EVAL - [epoch-20,    30] test_loss: 7.260 test_accuracy: 24.110\n"
     ]
    },
    {
     "name": "stdout",
     "output_type": "stream",
     "text": [
      "1083.0\n",
      "4492\n"
     ]
    },
    {
     "name": "stderr",
     "output_type": "stream",
     "text": [
      "2021-10-24 02:53:49 INFO     [epoch-20,    40] loss: 0.009\n",
      "2021-10-24 02:53:56 INFO     EVAL - [epoch-20,    40] test_loss: 7.100 test_accuracy: 27.649\n"
     ]
    },
    {
     "name": "stdout",
     "output_type": "stream",
     "text": [
      "1242.0\n",
      "4492\n"
     ]
    },
    {
     "name": "stderr",
     "output_type": "stream",
     "text": [
      "2021-10-24 02:53:58 INFO     [epoch-20,    50] loss: 0.005\n",
      "2021-10-24 02:54:05 INFO     EVAL - [epoch-20,    50] test_loss: 6.982 test_accuracy: 27.182\n"
     ]
    },
    {
     "name": "stdout",
     "output_type": "stream",
     "text": [
      "1221.0\n",
      "4492\n"
     ]
    },
    {
     "name": "stderr",
     "output_type": "stream",
     "text": [
      "2021-10-24 02:54:07 INFO     [epoch-20,    60] loss: 0.007\n",
      "2021-10-24 02:54:14 INFO     EVAL - [epoch-20,    60] test_loss: 7.002 test_accuracy: 26.269\n"
     ]
    },
    {
     "name": "stdout",
     "output_type": "stream",
     "text": [
      "1180.0\n",
      "4492\n"
     ]
    },
    {
     "name": "stderr",
     "output_type": "stream",
     "text": [
      "2021-10-24 02:54:17 INFO     [epoch-20,    70] loss: 0.004\n",
      "2021-10-24 02:54:24 INFO     EVAL - [epoch-20,    70] test_loss: 7.013 test_accuracy: 25.067\n"
     ]
    },
    {
     "name": "stdout",
     "output_type": "stream",
     "text": [
      "1126.0\n",
      "4492\n"
     ]
    },
    {
     "name": "stderr",
     "output_type": "stream",
     "text": [
      "2021-10-24 02:54:26 INFO     [epoch-21,    10] loss: 0.005\n",
      "2021-10-24 02:54:33 INFO     EVAL - [epoch-21,    10] test_loss: 7.086 test_accuracy: 26.803\n"
     ]
    },
    {
     "name": "stdout",
     "output_type": "stream",
     "text": [
      "1204.0\n",
      "4492\n"
     ]
    },
    {
     "name": "stderr",
     "output_type": "stream",
     "text": [
      "2021-10-24 02:54:35 INFO     [epoch-21,    20] loss: 0.001\n",
      "2021-10-24 02:54:42 INFO     EVAL - [epoch-21,    20] test_loss: 7.238 test_accuracy: 24.711\n"
     ]
    },
    {
     "name": "stdout",
     "output_type": "stream",
     "text": [
      "1110.0\n",
      "4492\n"
     ]
    },
    {
     "name": "stderr",
     "output_type": "stream",
     "text": [
      "2021-10-24 02:54:44 INFO     [epoch-21,    30] loss: 0.006\n",
      "2021-10-24 02:54:51 INFO     EVAL - [epoch-21,    30] test_loss: 7.317 test_accuracy: 22.039\n"
     ]
    },
    {
     "name": "stdout",
     "output_type": "stream",
     "text": [
      "990.0\n",
      "4492\n"
     ]
    },
    {
     "name": "stderr",
     "output_type": "stream",
     "text": [
      "2021-10-24 02:54:53 INFO     [epoch-21,    40] loss: 0.028\n",
      "2021-10-24 02:55:01 INFO     EVAL - [epoch-21,    40] test_loss: 6.803 test_accuracy: 28.094\n"
     ]
    },
    {
     "name": "stdout",
     "output_type": "stream",
     "text": [
      "1262.0\n",
      "4492\n"
     ]
    },
    {
     "name": "stderr",
     "output_type": "stream",
     "text": [
      "2021-10-24 02:55:03 INFO     [epoch-21,    50] loss: 0.009\n",
      "2021-10-24 02:55:10 INFO     EVAL - [epoch-21,    50] test_loss: 6.786 test_accuracy: 23.085\n"
     ]
    },
    {
     "name": "stdout",
     "output_type": "stream",
     "text": [
      "1037.0\n",
      "4492\n"
     ]
    },
    {
     "name": "stderr",
     "output_type": "stream",
     "text": [
      "2021-10-24 02:55:12 INFO     [epoch-21,    60] loss: 0.058\n",
      "2021-10-24 02:55:19 INFO     EVAL - [epoch-21,    60] test_loss: 7.709 test_accuracy: 16.808\n"
     ]
    },
    {
     "name": "stdout",
     "output_type": "stream",
     "text": [
      "755.0\n",
      "4492\n"
     ]
    },
    {
     "name": "stderr",
     "output_type": "stream",
     "text": [
      "2021-10-24 02:55:21 INFO     [epoch-21,    70] loss: 0.539\n",
      "2021-10-24 02:55:28 INFO     EVAL - [epoch-21,    70] test_loss: 8.166 test_accuracy: 19.501\n"
     ]
    },
    {
     "name": "stdout",
     "output_type": "stream",
     "text": [
      "876.0\n",
      "4492\n"
     ]
    },
    {
     "name": "stderr",
     "output_type": "stream",
     "text": [
      "2021-10-24 02:55:30 INFO     [epoch-22,    10] loss: 0.350\n",
      "2021-10-24 02:55:37 INFO     EVAL - [epoch-22,    10] test_loss: 5.001 test_accuracy: 26.447\n"
     ]
    },
    {
     "name": "stdout",
     "output_type": "stream",
     "text": [
      "1188.0\n",
      "4492\n"
     ]
    },
    {
     "name": "stderr",
     "output_type": "stream",
     "text": [
      "2021-10-24 02:55:40 INFO     [epoch-22,    20] loss: 0.126\n",
      "2021-10-24 02:55:47 INFO     EVAL - [epoch-22,    20] test_loss: 5.218 test_accuracy: 27.026\n"
     ]
    },
    {
     "name": "stdout",
     "output_type": "stream",
     "text": [
      "1214.0\n",
      "4492\n"
     ]
    },
    {
     "name": "stderr",
     "output_type": "stream",
     "text": [
      "2021-10-24 02:55:49 INFO     [epoch-22,    30] loss: 0.055\n",
      "2021-10-24 02:55:56 INFO     EVAL - [epoch-22,    30] test_loss: 5.027 test_accuracy: 25.245\n"
     ]
    },
    {
     "name": "stdout",
     "output_type": "stream",
     "text": [
      "1134.0\n",
      "4492\n"
     ]
    },
    {
     "name": "stderr",
     "output_type": "stream",
     "text": [
      "2021-10-24 02:55:58 INFO     [epoch-22,    40] loss: 0.061\n",
      "2021-10-24 02:56:05 INFO     EVAL - [epoch-22,    40] test_loss: 5.833 test_accuracy: 28.317\n"
     ]
    },
    {
     "name": "stdout",
     "output_type": "stream",
     "text": [
      "1272.0\n",
      "4492\n"
     ]
    },
    {
     "name": "stderr",
     "output_type": "stream",
     "text": [
      "2021-10-24 02:56:07 INFO     [epoch-22,    50] loss: 0.022\n",
      "2021-10-24 02:56:14 INFO     EVAL - [epoch-22,    50] test_loss: 5.928 test_accuracy: 27.560\n"
     ]
    },
    {
     "name": "stdout",
     "output_type": "stream",
     "text": [
      "1238.0\n",
      "4492\n"
     ]
    },
    {
     "name": "stderr",
     "output_type": "stream",
     "text": [
      "2021-10-24 02:56:16 INFO     [epoch-22,    60] loss: 0.023\n",
      "2021-10-24 02:56:23 INFO     EVAL - [epoch-22,    60] test_loss: 5.923 test_accuracy: 26.558\n"
     ]
    },
    {
     "name": "stdout",
     "output_type": "stream",
     "text": [
      "1193.0\n",
      "4492\n"
     ]
    },
    {
     "name": "stderr",
     "output_type": "stream",
     "text": [
      "2021-10-24 02:56:26 INFO     [epoch-22,    70] loss: 0.025\n",
      "2021-10-24 02:56:33 INFO     EVAL - [epoch-22,    70] test_loss: 6.737 test_accuracy: 25.646\n"
     ]
    },
    {
     "name": "stdout",
     "output_type": "stream",
     "text": [
      "1152.0\n",
      "4492\n"
     ]
    },
    {
     "name": "stderr",
     "output_type": "stream",
     "text": [
      "2021-10-24 02:56:35 INFO     [epoch-23,    10] loss: 0.011\n",
      "2021-10-24 02:56:42 INFO     EVAL - [epoch-23,    10] test_loss: 6.112 test_accuracy: 25.223\n"
     ]
    },
    {
     "name": "stdout",
     "output_type": "stream",
     "text": [
      "1133.0\n",
      "4492\n"
     ]
    },
    {
     "name": "stderr",
     "output_type": "stream",
     "text": [
      "2021-10-24 02:56:44 INFO     [epoch-23,    20] loss: 0.007\n",
      "2021-10-24 02:56:51 INFO     EVAL - [epoch-23,    20] test_loss: 6.725 test_accuracy: 24.421\n"
     ]
    },
    {
     "name": "stdout",
     "output_type": "stream",
     "text": [
      "1097.0\n",
      "4492\n"
     ]
    },
    {
     "name": "stderr",
     "output_type": "stream",
     "text": [
      "2021-10-24 02:56:53 INFO     [epoch-23,    30] loss: 0.009\n",
      "2021-10-24 02:57:00 INFO     EVAL - [epoch-23,    30] test_loss: 6.584 test_accuracy: 26.002\n"
     ]
    },
    {
     "name": "stdout",
     "output_type": "stream",
     "text": [
      "1168.0\n",
      "4492\n"
     ]
    },
    {
     "name": "stderr",
     "output_type": "stream",
     "text": [
      "2021-10-24 02:57:02 INFO     [epoch-23,    40] loss: 0.009\n",
      "2021-10-24 02:57:09 INFO     EVAL - [epoch-23,    40] test_loss: 6.443 test_accuracy: 27.582\n"
     ]
    },
    {
     "name": "stdout",
     "output_type": "stream",
     "text": [
      "1239.0\n",
      "4492\n"
     ]
    },
    {
     "name": "stderr",
     "output_type": "stream",
     "text": [
      "2021-10-24 02:57:12 INFO     [epoch-23,    50] loss: 0.004\n",
      "2021-10-24 02:57:19 INFO     EVAL - [epoch-23,    50] test_loss: 6.494 test_accuracy: 26.069\n"
     ]
    },
    {
     "name": "stdout",
     "output_type": "stream",
     "text": [
      "1171.0\n",
      "4492\n"
     ]
    },
    {
     "name": "stderr",
     "output_type": "stream",
     "text": [
      "2021-10-24 02:57:21 INFO     [epoch-23,    60] loss: 0.029\n",
      "2021-10-24 02:57:28 INFO     EVAL - [epoch-23,    60] test_loss: 6.699 test_accuracy: 29.341\n"
     ]
    },
    {
     "name": "stdout",
     "output_type": "stream",
     "text": [
      "1318.0\n",
      "4492\n"
     ]
    },
    {
     "name": "stderr",
     "output_type": "stream",
     "text": [
      "2021-10-24 02:57:30 INFO     [epoch-23,    70] loss: 0.017\n",
      "2021-10-24 02:57:37 INFO     EVAL - [epoch-23,    70] test_loss: 7.080 test_accuracy: 25.200\n"
     ]
    },
    {
     "name": "stdout",
     "output_type": "stream",
     "text": [
      "1132.0\n",
      "4492\n"
     ]
    },
    {
     "name": "stderr",
     "output_type": "stream",
     "text": [
      "2021-10-24 02:57:39 INFO     [epoch-24,    10] loss: 0.011\n",
      "2021-10-24 02:57:46 INFO     EVAL - [epoch-24,    10] test_loss: 6.394 test_accuracy: 28.272\n"
     ]
    },
    {
     "name": "stdout",
     "output_type": "stream",
     "text": [
      "1270.0\n",
      "4492\n"
     ]
    },
    {
     "name": "stderr",
     "output_type": "stream",
     "text": [
      "2021-10-24 02:57:48 INFO     [epoch-24,    20] loss: 0.010\n",
      "2021-10-24 02:57:55 INFO     EVAL - [epoch-24,    20] test_loss: 6.262 test_accuracy: 25.623\n"
     ]
    },
    {
     "name": "stdout",
     "output_type": "stream",
     "text": [
      "1151.0\n",
      "4492\n"
     ]
    },
    {
     "name": "stderr",
     "output_type": "stream",
     "text": [
      "2021-10-24 02:57:58 INFO     [epoch-24,    30] loss: 0.007\n",
      "2021-10-24 02:58:05 INFO     EVAL - [epoch-24,    30] test_loss: 6.625 test_accuracy: 27.115\n"
     ]
    },
    {
     "name": "stdout",
     "output_type": "stream",
     "text": [
      "1218.0\n",
      "4492\n"
     ]
    },
    {
     "name": "stderr",
     "output_type": "stream",
     "text": [
      "2021-10-24 02:58:07 INFO     [epoch-24,    40] loss: 0.006\n",
      "2021-10-24 02:58:14 INFO     EVAL - [epoch-24,    40] test_loss: 6.913 test_accuracy: 26.581\n"
     ]
    },
    {
     "name": "stdout",
     "output_type": "stream",
     "text": [
      "1194.0\n",
      "4492\n"
     ]
    },
    {
     "name": "stderr",
     "output_type": "stream",
     "text": [
      "2021-10-24 02:58:16 INFO     [epoch-24,    50] loss: 0.003\n",
      "2021-10-24 02:58:23 INFO     EVAL - [epoch-24,    50] test_loss: 6.451 test_accuracy: 28.028\n"
     ]
    },
    {
     "name": "stdout",
     "output_type": "stream",
     "text": [
      "1259.0\n",
      "4492\n"
     ]
    },
    {
     "name": "stderr",
     "output_type": "stream",
     "text": [
      "2021-10-24 02:58:25 INFO     [epoch-24,    60] loss: 0.004\n",
      "2021-10-24 02:58:32 INFO     EVAL - [epoch-24,    60] test_loss: 6.970 test_accuracy: 24.822\n"
     ]
    },
    {
     "name": "stdout",
     "output_type": "stream",
     "text": [
      "1115.0\n",
      "4492\n"
     ]
    },
    {
     "name": "stderr",
     "output_type": "stream",
     "text": [
      "2021-10-24 02:58:34 INFO     [epoch-24,    70] loss: 0.002\n",
      "2021-10-24 02:58:41 INFO     EVAL - [epoch-24,    70] test_loss: 7.131 test_accuracy: 26.224\n"
     ]
    },
    {
     "name": "stdout",
     "output_type": "stream",
     "text": [
      "1178.0\n",
      "4492\n"
     ]
    },
    {
     "name": "stderr",
     "output_type": "stream",
     "text": [
      "2021-10-24 02:58:44 INFO     [epoch-25,    10] loss: 0.008\n",
      "2021-10-24 02:58:51 INFO     EVAL - [epoch-25,    10] test_loss: 6.745 test_accuracy: 27.538\n"
     ]
    },
    {
     "name": "stdout",
     "output_type": "stream",
     "text": [
      "1237.0\n",
      "4492\n"
     ]
    },
    {
     "name": "stderr",
     "output_type": "stream",
     "text": [
      "2021-10-24 02:58:53 INFO     [epoch-25,    20] loss: 0.003\n",
      "2021-10-24 02:59:00 INFO     EVAL - [epoch-25,    20] test_loss: 6.502 test_accuracy: 27.538\n"
     ]
    },
    {
     "name": "stdout",
     "output_type": "stream",
     "text": [
      "1237.0\n",
      "4492\n"
     ]
    },
    {
     "name": "stderr",
     "output_type": "stream",
     "text": [
      "2021-10-24 02:59:02 INFO     [epoch-25,    30] loss: 0.006\n",
      "2021-10-24 02:59:09 INFO     EVAL - [epoch-25,    30] test_loss: 6.673 test_accuracy: 28.050\n"
     ]
    },
    {
     "name": "stdout",
     "output_type": "stream",
     "text": [
      "1260.0\n",
      "4492\n"
     ]
    },
    {
     "name": "stderr",
     "output_type": "stream",
     "text": [
      "2021-10-24 02:59:12 INFO     [epoch-25,    40] loss: 0.001\n",
      "2021-10-24 02:59:19 INFO     EVAL - [epoch-25,    40] test_loss: 6.863 test_accuracy: 29.163\n"
     ]
    },
    {
     "name": "stdout",
     "output_type": "stream",
     "text": [
      "1310.0\n",
      "4492\n"
     ]
    },
    {
     "name": "stderr",
     "output_type": "stream",
     "text": [
      "2021-10-24 02:59:21 INFO     [epoch-25,    50] loss: 0.003\n",
      "2021-10-24 02:59:28 INFO     EVAL - [epoch-25,    50] test_loss: 7.048 test_accuracy: 28.473\n"
     ]
    },
    {
     "name": "stdout",
     "output_type": "stream",
     "text": [
      "1279.0\n",
      "4492\n"
     ]
    },
    {
     "name": "stderr",
     "output_type": "stream",
     "text": [
      "2021-10-24 02:59:30 INFO     [epoch-25,    60] loss: 0.004\n",
      "2021-10-24 02:59:37 INFO     EVAL - [epoch-25,    60] test_loss: 7.010 test_accuracy: 26.892\n"
     ]
    },
    {
     "name": "stdout",
     "output_type": "stream",
     "text": [
      "1208.0\n",
      "4492\n"
     ]
    },
    {
     "name": "stderr",
     "output_type": "stream",
     "text": [
      "2021-10-24 02:59:39 INFO     [epoch-25,    70] loss: 0.004\n",
      "2021-10-24 02:59:46 INFO     EVAL - [epoch-25,    70] test_loss: 6.773 test_accuracy: 26.135\n"
     ]
    },
    {
     "name": "stdout",
     "output_type": "stream",
     "text": [
      "1174.0\n",
      "4492\n"
     ]
    },
    {
     "name": "stderr",
     "output_type": "stream",
     "text": [
      "2021-10-24 02:59:48 INFO     [epoch-26,    10] loss: 0.001\n",
      "2021-10-24 02:59:55 INFO     EVAL - [epoch-26,    10] test_loss: 6.957 test_accuracy: 27.271\n"
     ]
    },
    {
     "name": "stdout",
     "output_type": "stream",
     "text": [
      "1225.0\n",
      "4492\n"
     ]
    },
    {
     "name": "stderr",
     "output_type": "stream",
     "text": [
      "2021-10-24 02:59:58 INFO     [epoch-26,    20] loss: 0.001\n",
      "2021-10-24 03:00:05 INFO     EVAL - [epoch-26,    20] test_loss: 7.104 test_accuracy: 28.874\n"
     ]
    },
    {
     "name": "stdout",
     "output_type": "stream",
     "text": [
      "1297.0\n",
      "4492\n"
     ]
    },
    {
     "name": "stderr",
     "output_type": "stream",
     "text": [
      "2021-10-24 03:00:07 INFO     [epoch-26,    30] loss: 0.001\n",
      "2021-10-24 03:00:14 INFO     EVAL - [epoch-26,    30] test_loss: 7.350 test_accuracy: 27.048\n"
     ]
    },
    {
     "name": "stdout",
     "output_type": "stream",
     "text": [
      "1215.0\n",
      "4492\n"
     ]
    },
    {
     "name": "stderr",
     "output_type": "stream",
     "text": [
      "2021-10-24 03:00:16 INFO     [epoch-26,    40] loss: 0.002\n",
      "2021-10-24 03:00:23 INFO     EVAL - [epoch-26,    40] test_loss: 7.132 test_accuracy: 27.204\n"
     ]
    },
    {
     "name": "stdout",
     "output_type": "stream",
     "text": [
      "1222.0\n",
      "4492\n"
     ]
    },
    {
     "name": "stderr",
     "output_type": "stream",
     "text": [
      "2021-10-24 03:00:25 INFO     [epoch-26,    50] loss: 0.002\n",
      "2021-10-24 03:00:32 INFO     EVAL - [epoch-26,    50] test_loss: 6.781 test_accuracy: 26.581\n"
     ]
    },
    {
     "name": "stdout",
     "output_type": "stream",
     "text": [
      "1194.0\n",
      "4492\n"
     ]
    },
    {
     "name": "stderr",
     "output_type": "stream",
     "text": [
      "2021-10-24 03:00:34 INFO     [epoch-26,    60] loss: 0.001\n",
      "2021-10-24 03:00:41 INFO     EVAL - [epoch-26,    60] test_loss: 7.055 test_accuracy: 28.139\n"
     ]
    },
    {
     "name": "stdout",
     "output_type": "stream",
     "text": [
      "1264.0\n",
      "4492\n"
     ]
    },
    {
     "name": "stderr",
     "output_type": "stream",
     "text": [
      "2021-10-24 03:00:44 INFO     [epoch-26,    70] loss: 0.001\n",
      "2021-10-24 03:00:51 INFO     EVAL - [epoch-26,    70] test_loss: 7.084 test_accuracy: 27.516\n"
     ]
    },
    {
     "name": "stdout",
     "output_type": "stream",
     "text": [
      "1236.0\n",
      "4492\n"
     ]
    },
    {
     "name": "stderr",
     "output_type": "stream",
     "text": [
      "2021-10-24 03:00:53 INFO     [epoch-27,    10] loss: 0.000\n",
      "2021-10-24 03:01:00 INFO     EVAL - [epoch-27,    10] test_loss: 7.143 test_accuracy: 27.226\n"
     ]
    },
    {
     "name": "stdout",
     "output_type": "stream",
     "text": [
      "1223.0\n",
      "4492\n"
     ]
    },
    {
     "name": "stderr",
     "output_type": "stream",
     "text": [
      "2021-10-24 03:01:02 INFO     [epoch-27,    20] loss: 0.000\n",
      "2021-10-24 03:01:09 INFO     EVAL - [epoch-27,    20] test_loss: 7.154 test_accuracy: 27.404\n"
     ]
    },
    {
     "name": "stdout",
     "output_type": "stream",
     "text": [
      "1231.0\n",
      "4492\n"
     ]
    },
    {
     "name": "stderr",
     "output_type": "stream",
     "text": [
      "2021-10-24 03:01:11 INFO     [epoch-27,    30] loss: 0.000\n",
      "2021-10-24 03:01:18 INFO     EVAL - [epoch-27,    30] test_loss: 7.163 test_accuracy: 27.649\n"
     ]
    },
    {
     "name": "stdout",
     "output_type": "stream",
     "text": [
      "1242.0\n",
      "4492\n"
     ]
    },
    {
     "name": "stderr",
     "output_type": "stream",
     "text": [
      "2021-10-24 03:01:21 INFO     [epoch-27,    40] loss: 0.000\n",
      "2021-10-24 03:01:28 INFO     EVAL - [epoch-27,    40] test_loss: 7.171 test_accuracy: 27.694\n"
     ]
    },
    {
     "name": "stdout",
     "output_type": "stream",
     "text": [
      "1244.0\n",
      "4492\n"
     ]
    },
    {
     "name": "stderr",
     "output_type": "stream",
     "text": [
      "2021-10-24 03:01:30 INFO     [epoch-27,    50] loss: 0.003\n",
      "2021-10-24 03:01:37 INFO     EVAL - [epoch-27,    50] test_loss: 7.143 test_accuracy: 26.670\n"
     ]
    },
    {
     "name": "stdout",
     "output_type": "stream",
     "text": [
      "1198.0\n",
      "4492\n"
     ]
    },
    {
     "name": "stderr",
     "output_type": "stream",
     "text": [
      "2021-10-24 03:01:39 INFO     [epoch-27,    60] loss: 0.001\n",
      "2021-10-24 03:01:46 INFO     EVAL - [epoch-27,    60] test_loss: 7.077 test_accuracy: 27.516\n"
     ]
    },
    {
     "name": "stdout",
     "output_type": "stream",
     "text": [
      "1236.0\n",
      "4492\n"
     ]
    },
    {
     "name": "stderr",
     "output_type": "stream",
     "text": [
      "2021-10-24 03:01:48 INFO     [epoch-27,    70] loss: 0.001\n",
      "2021-10-24 03:01:55 INFO     EVAL - [epoch-27,    70] test_loss: 7.048 test_accuracy: 26.825\n"
     ]
    },
    {
     "name": "stdout",
     "output_type": "stream",
     "text": [
      "1205.0\n",
      "4492\n"
     ]
    },
    {
     "name": "stderr",
     "output_type": "stream",
     "text": [
      "2021-10-24 03:01:57 INFO     [epoch-28,    10] loss: 0.000\n",
      "2021-10-24 03:02:04 INFO     EVAL - [epoch-28,    10] test_loss: 7.081 test_accuracy: 27.404\n"
     ]
    },
    {
     "name": "stdout",
     "output_type": "stream",
     "text": [
      "1231.0\n",
      "4492\n"
     ]
    },
    {
     "name": "stderr",
     "output_type": "stream",
     "text": [
      "2021-10-24 03:02:07 INFO     [epoch-28,    20] loss: 0.000\n",
      "2021-10-24 03:02:14 INFO     EVAL - [epoch-28,    20] test_loss: 7.149 test_accuracy: 27.404\n"
     ]
    },
    {
     "name": "stdout",
     "output_type": "stream",
     "text": [
      "1231.0\n",
      "4492\n"
     ]
    },
    {
     "name": "stderr",
     "output_type": "stream",
     "text": [
      "2021-10-24 03:02:16 INFO     [epoch-28,    30] loss: 0.000\n",
      "2021-10-24 03:02:23 INFO     EVAL - [epoch-28,    30] test_loss: 7.188 test_accuracy: 27.360\n"
     ]
    },
    {
     "name": "stdout",
     "output_type": "stream",
     "text": [
      "1229.0\n",
      "4492\n"
     ]
    },
    {
     "name": "stderr",
     "output_type": "stream",
     "text": [
      "2021-10-24 03:02:25 INFO     [epoch-28,    40] loss: 0.000\n",
      "2021-10-24 03:02:32 INFO     EVAL - [epoch-28,    40] test_loss: 7.245 test_accuracy: 27.093\n"
     ]
    },
    {
     "name": "stdout",
     "output_type": "stream",
     "text": [
      "1217.0\n",
      "4492\n"
     ]
    },
    {
     "name": "stderr",
     "output_type": "stream",
     "text": [
      "2021-10-24 03:02:34 INFO     [epoch-28,    50] loss: 0.000\n",
      "2021-10-24 03:02:41 INFO     EVAL - [epoch-28,    50] test_loss: 7.302 test_accuracy: 26.981\n"
     ]
    },
    {
     "name": "stdout",
     "output_type": "stream",
     "text": [
      "1212.0\n",
      "4492\n"
     ]
    },
    {
     "name": "stderr",
     "output_type": "stream",
     "text": [
      "2021-10-24 03:02:43 INFO     [epoch-28,    60] loss: 0.000\n",
      "2021-10-24 03:02:50 INFO     EVAL - [epoch-28,    60] test_loss: 7.360 test_accuracy: 27.182\n"
     ]
    },
    {
     "name": "stdout",
     "output_type": "stream",
     "text": [
      "1221.0\n",
      "4492\n"
     ]
    },
    {
     "name": "stderr",
     "output_type": "stream",
     "text": [
      "2021-10-24 03:02:53 INFO     [epoch-28,    70] loss: 0.000\n",
      "2021-10-24 03:03:00 INFO     EVAL - [epoch-28,    70] test_loss: 7.421 test_accuracy: 27.226\n"
     ]
    },
    {
     "name": "stdout",
     "output_type": "stream",
     "text": [
      "1223.0\n",
      "4492\n"
     ]
    },
    {
     "name": "stderr",
     "output_type": "stream",
     "text": [
      "2021-10-24 03:03:02 INFO     [epoch-29,    10] loss: 0.000\n",
      "2021-10-24 03:03:09 INFO     EVAL - [epoch-29,    10] test_loss: 7.325 test_accuracy: 27.159\n"
     ]
    },
    {
     "name": "stdout",
     "output_type": "stream",
     "text": [
      "1220.0\n",
      "4492\n"
     ]
    },
    {
     "name": "stderr",
     "output_type": "stream",
     "text": [
      "2021-10-24 03:03:11 INFO     [epoch-29,    20] loss: 0.000\n",
      "2021-10-24 03:03:18 INFO     EVAL - [epoch-29,    20] test_loss: 7.411 test_accuracy: 26.870\n"
     ]
    },
    {
     "name": "stdout",
     "output_type": "stream",
     "text": [
      "1207.0\n",
      "4492\n"
     ]
    },
    {
     "name": "stderr",
     "output_type": "stream",
     "text": [
      "2021-10-24 03:03:21 INFO     [epoch-29,    30] loss: 0.000\n",
      "2021-10-24 03:03:28 INFO     EVAL - [epoch-29,    30] test_loss: 7.467 test_accuracy: 26.915\n"
     ]
    },
    {
     "name": "stdout",
     "output_type": "stream",
     "text": [
      "1209.0\n",
      "4492\n"
     ]
    },
    {
     "name": "stderr",
     "output_type": "stream",
     "text": [
      "2021-10-24 03:03:30 INFO     [epoch-29,    40] loss: 0.000\n",
      "2021-10-24 03:03:37 INFO     EVAL - [epoch-29,    40] test_loss: 7.493 test_accuracy: 26.937\n"
     ]
    },
    {
     "name": "stdout",
     "output_type": "stream",
     "text": [
      "1210.0\n",
      "4492\n"
     ]
    },
    {
     "name": "stderr",
     "output_type": "stream",
     "text": [
      "2021-10-24 03:03:39 INFO     [epoch-29,    50] loss: 0.000\n",
      "2021-10-24 03:03:46 INFO     EVAL - [epoch-29,    50] test_loss: 7.549 test_accuracy: 27.115\n"
     ]
    },
    {
     "name": "stdout",
     "output_type": "stream",
     "text": [
      "1218.0\n",
      "4492\n"
     ]
    },
    {
     "name": "stderr",
     "output_type": "stream",
     "text": [
      "2021-10-24 03:03:48 INFO     [epoch-29,    60] loss: 0.000\n",
      "2021-10-24 03:03:55 INFO     EVAL - [epoch-29,    60] test_loss: 7.545 test_accuracy: 27.627\n"
     ]
    },
    {
     "name": "stdout",
     "output_type": "stream",
     "text": [
      "1241.0\n",
      "4492\n"
     ]
    },
    {
     "name": "stderr",
     "output_type": "stream",
     "text": [
      "2021-10-24 03:03:57 INFO     [epoch-29,    70] loss: 0.000\n",
      "2021-10-24 03:04:04 INFO     EVAL - [epoch-29,    70] test_loss: 7.634 test_accuracy: 27.248\n"
     ]
    },
    {
     "name": "stdout",
     "output_type": "stream",
     "text": [
      "1224.0\n",
      "4492\n"
     ]
    },
    {
     "name": "stderr",
     "output_type": "stream",
     "text": [
      "2021-10-24 03:04:07 INFO     [epoch-30,    10] loss: 0.000\n",
      "2021-10-24 03:04:14 INFO     EVAL - [epoch-30,    10] test_loss: 7.692 test_accuracy: 27.226\n"
     ]
    },
    {
     "name": "stdout",
     "output_type": "stream",
     "text": [
      "1223.0\n",
      "4492\n"
     ]
    },
    {
     "name": "stderr",
     "output_type": "stream",
     "text": [
      "2021-10-24 03:04:16 INFO     [epoch-30,    20] loss: 0.000\n",
      "2021-10-24 03:04:23 INFO     EVAL - [epoch-30,    20] test_loss: 7.708 test_accuracy: 27.404\n"
     ]
    },
    {
     "name": "stdout",
     "output_type": "stream",
     "text": [
      "1231.0\n",
      "4492\n"
     ]
    },
    {
     "name": "stderr",
     "output_type": "stream",
     "text": [
      "2021-10-24 03:04:25 INFO     [epoch-30,    30] loss: 0.000\n",
      "2021-10-24 03:04:32 INFO     EVAL - [epoch-30,    30] test_loss: 7.741 test_accuracy: 27.360\n"
     ]
    },
    {
     "name": "stdout",
     "output_type": "stream",
     "text": [
      "1229.0\n",
      "4492\n"
     ]
    },
    {
     "name": "stderr",
     "output_type": "stream",
     "text": [
      "2021-10-24 03:04:34 INFO     [epoch-30,    40] loss: 0.000\n",
      "2021-10-24 03:04:41 INFO     EVAL - [epoch-30,    40] test_loss: 7.776 test_accuracy: 27.360\n"
     ]
    },
    {
     "name": "stdout",
     "output_type": "stream",
     "text": [
      "1229.0\n",
      "4492\n"
     ]
    },
    {
     "name": "stderr",
     "output_type": "stream",
     "text": [
      "2021-10-24 03:04:43 INFO     [epoch-30,    50] loss: 0.000\n",
      "2021-10-24 03:04:50 INFO     EVAL - [epoch-30,    50] test_loss: 7.825 test_accuracy: 27.248\n"
     ]
    },
    {
     "name": "stdout",
     "output_type": "stream",
     "text": [
      "1224.0\n",
      "4492\n"
     ]
    },
    {
     "name": "stderr",
     "output_type": "stream",
     "text": [
      "2021-10-24 03:04:53 INFO     [epoch-30,    60] loss: 0.000\n",
      "2021-10-24 03:05:00 INFO     EVAL - [epoch-30,    60] test_loss: 7.843 test_accuracy: 27.360\n"
     ]
    },
    {
     "name": "stdout",
     "output_type": "stream",
     "text": [
      "1229.0\n",
      "4492\n"
     ]
    },
    {
     "name": "stderr",
     "output_type": "stream",
     "text": [
      "2021-10-24 03:05:02 INFO     [epoch-30,    70] loss: 0.000\n",
      "2021-10-24 03:05:09 INFO     EVAL - [epoch-30,    70] test_loss: 7.881 test_accuracy: 27.360\n"
     ]
    },
    {
     "name": "stdout",
     "output_type": "stream",
     "text": [
      "1229.0\n",
      "4492\n"
     ]
    },
    {
     "name": "stderr",
     "output_type": "stream",
     "text": [
      "2021-10-24 03:05:11 INFO     [epoch-31,    10] loss: 0.000\n",
      "2021-10-24 03:05:18 INFO     EVAL - [epoch-31,    10] test_loss: 7.902 test_accuracy: 27.337\n"
     ]
    },
    {
     "name": "stdout",
     "output_type": "stream",
     "text": [
      "1228.0\n",
      "4492\n"
     ]
    },
    {
     "name": "stderr",
     "output_type": "stream",
     "text": [
      "2021-10-24 03:05:21 INFO     [epoch-31,    20] loss: 0.000\n",
      "2021-10-24 03:05:28 INFO     EVAL - [epoch-31,    20] test_loss: 7.936 test_accuracy: 27.315\n"
     ]
    },
    {
     "name": "stdout",
     "output_type": "stream",
     "text": [
      "1227.0\n",
      "4492\n"
     ]
    },
    {
     "name": "stderr",
     "output_type": "stream",
     "text": [
      "2021-10-24 03:05:30 INFO     [epoch-31,    30] loss: 0.000\n",
      "2021-10-24 03:05:37 INFO     EVAL - [epoch-31,    30] test_loss: 7.970 test_accuracy: 27.382\n"
     ]
    },
    {
     "name": "stdout",
     "output_type": "stream",
     "text": [
      "1230.0\n",
      "4492\n"
     ]
    },
    {
     "name": "stderr",
     "output_type": "stream",
     "text": [
      "2021-10-24 03:05:39 INFO     [epoch-31,    40] loss: 0.000\n",
      "2021-10-24 03:05:46 INFO     EVAL - [epoch-31,    40] test_loss: 8.008 test_accuracy: 27.382\n"
     ]
    },
    {
     "name": "stdout",
     "output_type": "stream",
     "text": [
      "1230.0\n",
      "4492\n"
     ]
    },
    {
     "name": "stderr",
     "output_type": "stream",
     "text": [
      "2021-10-24 03:05:48 INFO     [epoch-31,    50] loss: 0.000\n",
      "2021-10-24 03:05:55 INFO     EVAL - [epoch-31,    50] test_loss: 8.024 test_accuracy: 27.605\n"
     ]
    },
    {
     "name": "stdout",
     "output_type": "stream",
     "text": [
      "1240.0\n",
      "4492\n"
     ]
    },
    {
     "name": "stderr",
     "output_type": "stream",
     "text": [
      "2021-10-24 03:05:57 INFO     [epoch-31,    60] loss: 0.000\n",
      "2021-10-24 03:06:04 INFO     EVAL - [epoch-31,    60] test_loss: 8.030 test_accuracy: 27.694\n"
     ]
    },
    {
     "name": "stdout",
     "output_type": "stream",
     "text": [
      "1244.0\n",
      "4492\n"
     ]
    },
    {
     "name": "stderr",
     "output_type": "stream",
     "text": [
      "2021-10-24 03:06:07 INFO     [epoch-31,    70] loss: 0.000\n",
      "2021-10-24 03:06:13 INFO     EVAL - [epoch-31,    70] test_loss: 8.092 test_accuracy: 27.427\n"
     ]
    },
    {
     "name": "stdout",
     "output_type": "stream",
     "text": [
      "1232.0\n",
      "4492\n"
     ]
    },
    {
     "name": "stderr",
     "output_type": "stream",
     "text": [
      "2021-10-24 03:06:16 INFO     [epoch-32,    10] loss: 0.000\n",
      "2021-10-24 03:06:23 INFO     EVAL - [epoch-32,    10] test_loss: 8.110 test_accuracy: 27.605\n"
     ]
    },
    {
     "name": "stdout",
     "output_type": "stream",
     "text": [
      "1240.0\n",
      "4492\n"
     ]
    },
    {
     "name": "stderr",
     "output_type": "stream",
     "text": [
      "2021-10-24 03:06:25 INFO     [epoch-32,    20] loss: 0.000\n",
      "2021-10-24 03:06:32 INFO     EVAL - [epoch-32,    20] test_loss: 8.119 test_accuracy: 27.738\n"
     ]
    },
    {
     "name": "stdout",
     "output_type": "stream",
     "text": [
      "1246.0\n",
      "4492\n"
     ]
    },
    {
     "name": "stderr",
     "output_type": "stream",
     "text": [
      "2021-10-24 03:06:34 INFO     [epoch-32,    30] loss: 0.000\n",
      "2021-10-24 03:06:41 INFO     EVAL - [epoch-32,    30] test_loss: 8.150 test_accuracy: 27.783\n"
     ]
    },
    {
     "name": "stdout",
     "output_type": "stream",
     "text": [
      "1248.0\n",
      "4492\n"
     ]
    },
    {
     "name": "stderr",
     "output_type": "stream",
     "text": [
      "2021-10-24 03:06:43 INFO     [epoch-32,    40] loss: 0.000\n",
      "2021-10-24 03:06:50 INFO     EVAL - [epoch-32,    40] test_loss: 8.178 test_accuracy: 27.716\n"
     ]
    },
    {
     "name": "stdout",
     "output_type": "stream",
     "text": [
      "1245.0\n",
      "4492\n"
     ]
    },
    {
     "name": "stderr",
     "output_type": "stream",
     "text": [
      "2021-10-24 03:06:53 INFO     [epoch-32,    50] loss: 0.000\n",
      "2021-10-24 03:07:00 INFO     EVAL - [epoch-32,    50] test_loss: 8.218 test_accuracy: 27.582\n"
     ]
    },
    {
     "name": "stdout",
     "output_type": "stream",
     "text": [
      "1239.0\n",
      "4492\n"
     ]
    },
    {
     "name": "stderr",
     "output_type": "stream",
     "text": [
      "2021-10-24 03:07:02 INFO     [epoch-32,    60] loss: 0.000\n",
      "2021-10-24 03:07:09 INFO     EVAL - [epoch-32,    60] test_loss: 8.246 test_accuracy: 27.538\n"
     ]
    },
    {
     "name": "stdout",
     "output_type": "stream",
     "text": [
      "1237.0\n",
      "4492\n"
     ]
    },
    {
     "name": "stderr",
     "output_type": "stream",
     "text": [
      "2021-10-24 03:07:11 INFO     [epoch-32,    70] loss: 0.000\n",
      "2021-10-24 03:07:18 INFO     EVAL - [epoch-32,    70] test_loss: 8.247 test_accuracy: 27.850\n"
     ]
    },
    {
     "name": "stdout",
     "output_type": "stream",
     "text": [
      "1251.0\n",
      "4492\n"
     ]
    },
    {
     "name": "stderr",
     "output_type": "stream",
     "text": [
      "2021-10-24 03:07:20 INFO     [epoch-33,    10] loss: 0.000\n",
      "2021-10-24 03:07:27 INFO     EVAL - [epoch-33,    10] test_loss: 8.261 test_accuracy: 28.005\n"
     ]
    },
    {
     "name": "stdout",
     "output_type": "stream",
     "text": [
      "1258.0\n",
      "4492\n"
     ]
    },
    {
     "name": "stderr",
     "output_type": "stream",
     "text": [
      "2021-10-24 03:07:30 INFO     [epoch-33,    20] loss: 0.000\n",
      "2021-10-24 03:07:37 INFO     EVAL - [epoch-33,    20] test_loss: 8.321 test_accuracy: 27.850\n"
     ]
    },
    {
     "name": "stdout",
     "output_type": "stream",
     "text": [
      "1251.0\n",
      "4492\n"
     ]
    },
    {
     "name": "stderr",
     "output_type": "stream",
     "text": [
      "2021-10-24 03:07:39 INFO     [epoch-33,    30] loss: 0.000\n",
      "2021-10-24 03:07:46 INFO     EVAL - [epoch-33,    30] test_loss: 8.336 test_accuracy: 27.671\n"
     ]
    },
    {
     "name": "stdout",
     "output_type": "stream",
     "text": [
      "1243.0\n",
      "4492\n"
     ]
    },
    {
     "name": "stderr",
     "output_type": "stream",
     "text": [
      "2021-10-24 03:07:48 INFO     [epoch-33,    40] loss: 0.000\n",
      "2021-10-24 03:07:55 INFO     EVAL - [epoch-33,    40] test_loss: 8.348 test_accuracy: 27.671\n"
     ]
    },
    {
     "name": "stdout",
     "output_type": "stream",
     "text": [
      "1243.0\n",
      "4492\n"
     ]
    },
    {
     "name": "stderr",
     "output_type": "stream",
     "text": [
      "2021-10-24 03:07:57 INFO     [epoch-33,    50] loss: 0.000\n",
      "2021-10-24 03:08:04 INFO     EVAL - [epoch-33,    50] test_loss: 8.375 test_accuracy: 27.627\n"
     ]
    },
    {
     "name": "stdout",
     "output_type": "stream",
     "text": [
      "1241.0\n",
      "4492\n"
     ]
    },
    {
     "name": "stderr",
     "output_type": "stream",
     "text": [
      "2021-10-24 03:08:06 INFO     [epoch-33,    60] loss: 0.000\n",
      "2021-10-24 03:08:13 INFO     EVAL - [epoch-33,    60] test_loss: 8.416 test_accuracy: 27.560\n"
     ]
    },
    {
     "name": "stdout",
     "output_type": "stream",
     "text": [
      "1238.0\n",
      "4492\n"
     ]
    },
    {
     "name": "stderr",
     "output_type": "stream",
     "text": [
      "2021-10-24 03:08:16 INFO     [epoch-33,    70] loss: 0.000\n",
      "2021-10-24 03:08:23 INFO     EVAL - [epoch-33,    70] test_loss: 8.415 test_accuracy: 27.872\n"
     ]
    },
    {
     "name": "stdout",
     "output_type": "stream",
     "text": [
      "1252.0\n",
      "4492\n"
     ]
    },
    {
     "name": "stderr",
     "output_type": "stream",
     "text": [
      "2021-10-24 03:08:25 INFO     [epoch-34,    10] loss: 0.000\n",
      "2021-10-24 03:08:32 INFO     EVAL - [epoch-34,    10] test_loss: 8.445 test_accuracy: 27.760\n"
     ]
    },
    {
     "name": "stdout",
     "output_type": "stream",
     "text": [
      "1247.0\n",
      "4492\n"
     ]
    },
    {
     "name": "stderr",
     "output_type": "stream",
     "text": [
      "2021-10-24 03:08:34 INFO     [epoch-34,    20] loss: 0.000\n",
      "2021-10-24 03:08:41 INFO     EVAL - [epoch-34,    20] test_loss: 8.470 test_accuracy: 27.582\n"
     ]
    },
    {
     "name": "stdout",
     "output_type": "stream",
     "text": [
      "1239.0\n",
      "4492\n"
     ]
    },
    {
     "name": "stderr",
     "output_type": "stream",
     "text": [
      "2021-10-24 03:08:43 INFO     [epoch-34,    30] loss: 0.000\n",
      "2021-10-24 03:08:50 INFO     EVAL - [epoch-34,    30] test_loss: 8.464 test_accuracy: 27.783\n"
     ]
    },
    {
     "name": "stdout",
     "output_type": "stream",
     "text": [
      "1248.0\n",
      "4492\n"
     ]
    },
    {
     "name": "stderr",
     "output_type": "stream",
     "text": [
      "2021-10-24 03:08:52 INFO     [epoch-34,    40] loss: 0.000\n",
      "2021-10-24 03:09:00 INFO     EVAL - [epoch-34,    40] test_loss: 8.484 test_accuracy: 27.783\n"
     ]
    },
    {
     "name": "stdout",
     "output_type": "stream",
     "text": [
      "1248.0\n",
      "4492\n"
     ]
    },
    {
     "name": "stderr",
     "output_type": "stream",
     "text": [
      "2021-10-24 03:09:02 INFO     [epoch-34,    50] loss: 0.000\n",
      "2021-10-24 03:09:09 INFO     EVAL - [epoch-34,    50] test_loss: 8.518 test_accuracy: 27.805\n"
     ]
    },
    {
     "name": "stdout",
     "output_type": "stream",
     "text": [
      "1249.0\n",
      "4492\n"
     ]
    },
    {
     "name": "stderr",
     "output_type": "stream",
     "text": [
      "2021-10-24 03:09:11 INFO     [epoch-34,    60] loss: 0.000\n",
      "2021-10-24 03:09:18 INFO     EVAL - [epoch-34,    60] test_loss: 8.552 test_accuracy: 27.760\n"
     ]
    },
    {
     "name": "stdout",
     "output_type": "stream",
     "text": [
      "1247.0\n",
      "4492\n"
     ]
    },
    {
     "name": "stderr",
     "output_type": "stream",
     "text": [
      "2021-10-24 03:09:20 INFO     [epoch-34,    70] loss: 0.000\n",
      "2021-10-24 03:09:27 INFO     EVAL - [epoch-34,    70] test_loss: 8.559 test_accuracy: 27.760\n"
     ]
    },
    {
     "name": "stdout",
     "output_type": "stream",
     "text": [
      "1247.0\n",
      "4492\n"
     ]
    },
    {
     "name": "stderr",
     "output_type": "stream",
     "text": [
      "2021-10-24 03:09:29 INFO     [epoch-35,    10] loss: 0.000\n",
      "2021-10-24 03:09:36 INFO     EVAL - [epoch-35,    10] test_loss: 8.593 test_accuracy: 27.627\n"
     ]
    },
    {
     "name": "stdout",
     "output_type": "stream",
     "text": [
      "1241.0\n",
      "4492\n"
     ]
    },
    {
     "name": "stderr",
     "output_type": "stream",
     "text": [
      "2021-10-24 03:09:39 INFO     [epoch-35,    20] loss: 0.000\n",
      "2021-10-24 03:09:46 INFO     EVAL - [epoch-35,    20] test_loss: 8.592 test_accuracy: 27.627\n"
     ]
    },
    {
     "name": "stdout",
     "output_type": "stream",
     "text": [
      "1241.0\n",
      "4492\n"
     ]
    },
    {
     "name": "stderr",
     "output_type": "stream",
     "text": [
      "2021-10-24 03:09:48 INFO     [epoch-35,    30] loss: 0.000\n",
      "2021-10-24 03:09:55 INFO     EVAL - [epoch-35,    30] test_loss: 8.597 test_accuracy: 27.671\n"
     ]
    },
    {
     "name": "stdout",
     "output_type": "stream",
     "text": [
      "1243.0\n",
      "4492\n"
     ]
    },
    {
     "name": "stderr",
     "output_type": "stream",
     "text": [
      "2021-10-24 03:09:57 INFO     [epoch-35,    40] loss: 0.000\n",
      "2021-10-24 03:10:04 INFO     EVAL - [epoch-35,    40] test_loss: 8.636 test_accuracy: 27.783\n"
     ]
    },
    {
     "name": "stdout",
     "output_type": "stream",
     "text": [
      "1248.0\n",
      "4492\n"
     ]
    },
    {
     "name": "stderr",
     "output_type": "stream",
     "text": [
      "2021-10-24 03:10:06 INFO     [epoch-35,    50] loss: 0.000\n",
      "2021-10-24 03:10:13 INFO     EVAL - [epoch-35,    50] test_loss: 8.647 test_accuracy: 27.738\n"
     ]
    },
    {
     "name": "stdout",
     "output_type": "stream",
     "text": [
      "1246.0\n",
      "4492\n"
     ]
    },
    {
     "name": "stderr",
     "output_type": "stream",
     "text": [
      "2021-10-24 03:10:15 INFO     [epoch-35,    60] loss: 0.000\n",
      "2021-10-24 03:10:22 INFO     EVAL - [epoch-35,    60] test_loss: 8.678 test_accuracy: 27.627\n"
     ]
    },
    {
     "name": "stdout",
     "output_type": "stream",
     "text": [
      "1241.0\n",
      "4492\n"
     ]
    },
    {
     "name": "stderr",
     "output_type": "stream",
     "text": [
      "2021-10-24 03:10:25 INFO     [epoch-35,    70] loss: 0.000\n",
      "2021-10-24 03:10:32 INFO     EVAL - [epoch-35,    70] test_loss: 8.674 test_accuracy: 27.738\n"
     ]
    },
    {
     "name": "stdout",
     "output_type": "stream",
     "text": [
      "1246.0\n",
      "4492\n"
     ]
    },
    {
     "name": "stderr",
     "output_type": "stream",
     "text": [
      "2021-10-24 03:10:34 INFO     [epoch-36,    10] loss: 0.000\n",
      "2021-10-24 03:10:41 INFO     EVAL - [epoch-36,    10] test_loss: 8.693 test_accuracy: 27.560\n"
     ]
    },
    {
     "name": "stdout",
     "output_type": "stream",
     "text": [
      "1238.0\n",
      "4492\n"
     ]
    },
    {
     "name": "stderr",
     "output_type": "stream",
     "text": [
      "2021-10-24 03:10:43 INFO     [epoch-36,    20] loss: 0.000\n",
      "2021-10-24 03:10:50 INFO     EVAL - [epoch-36,    20] test_loss: 8.717 test_accuracy: 27.427\n"
     ]
    },
    {
     "name": "stdout",
     "output_type": "stream",
     "text": [
      "1232.0\n",
      "4492\n"
     ]
    },
    {
     "name": "stderr",
     "output_type": "stream",
     "text": [
      "2021-10-24 03:10:52 INFO     [epoch-36,    30] loss: 0.000\n",
      "2021-10-24 03:11:00 INFO     EVAL - [epoch-36,    30] test_loss: 8.713 test_accuracy: 27.649\n"
     ]
    },
    {
     "name": "stdout",
     "output_type": "stream",
     "text": [
      "1242.0\n",
      "4492\n"
     ]
    },
    {
     "name": "stderr",
     "output_type": "stream",
     "text": [
      "2021-10-24 03:11:02 INFO     [epoch-36,    40] loss: 0.000\n",
      "2021-10-24 03:11:09 INFO     EVAL - [epoch-36,    40] test_loss: 8.729 test_accuracy: 27.671\n"
     ]
    },
    {
     "name": "stdout",
     "output_type": "stream",
     "text": [
      "1243.0\n",
      "4492\n"
     ]
    },
    {
     "name": "stderr",
     "output_type": "stream",
     "text": [
      "2021-10-24 03:11:11 INFO     [epoch-36,    50] loss: 0.000\n",
      "2021-10-24 03:11:18 INFO     EVAL - [epoch-36,    50] test_loss: 8.756 test_accuracy: 27.649\n"
     ]
    },
    {
     "name": "stdout",
     "output_type": "stream",
     "text": [
      "1242.0\n",
      "4492\n"
     ]
    },
    {
     "name": "stderr",
     "output_type": "stream",
     "text": [
      "2021-10-24 03:11:20 INFO     [epoch-36,    60] loss: 0.000\n",
      "2021-10-24 03:11:27 INFO     EVAL - [epoch-36,    60] test_loss: 8.779 test_accuracy: 27.671\n"
     ]
    },
    {
     "name": "stdout",
     "output_type": "stream",
     "text": [
      "1243.0\n",
      "4492\n"
     ]
    },
    {
     "name": "stderr",
     "output_type": "stream",
     "text": [
      "2021-10-24 03:11:29 INFO     [epoch-36,    70] loss: 0.000\n",
      "2021-10-24 03:11:36 INFO     EVAL - [epoch-36,    70] test_loss: 8.813 test_accuracy: 27.516\n"
     ]
    },
    {
     "name": "stdout",
     "output_type": "stream",
     "text": [
      "1236.0\n",
      "4492\n"
     ]
    },
    {
     "name": "stderr",
     "output_type": "stream",
     "text": [
      "2021-10-24 03:11:39 INFO     [epoch-37,    10] loss: 0.000\n",
      "2021-10-24 03:11:46 INFO     EVAL - [epoch-37,    10] test_loss: 8.830 test_accuracy: 27.605\n"
     ]
    },
    {
     "name": "stdout",
     "output_type": "stream",
     "text": [
      "1240.0\n",
      "4492\n"
     ]
    },
    {
     "name": "stderr",
     "output_type": "stream",
     "text": [
      "2021-10-24 03:11:48 INFO     [epoch-37,    20] loss: 0.000\n",
      "2021-10-24 03:11:55 INFO     EVAL - [epoch-37,    20] test_loss: 8.830 test_accuracy: 27.627\n"
     ]
    },
    {
     "name": "stdout",
     "output_type": "stream",
     "text": [
      "1241.0\n",
      "4492\n"
     ]
    },
    {
     "name": "stderr",
     "output_type": "stream",
     "text": [
      "2021-10-24 03:11:57 INFO     [epoch-37,    30] loss: 0.000\n",
      "2021-10-24 03:12:04 INFO     EVAL - [epoch-37,    30] test_loss: 8.850 test_accuracy: 27.649\n"
     ]
    },
    {
     "name": "stdout",
     "output_type": "stream",
     "text": [
      "1242.0\n",
      "4492\n"
     ]
    },
    {
     "name": "stderr",
     "output_type": "stream",
     "text": [
      "2021-10-24 03:12:06 INFO     [epoch-37,    40] loss: 0.000\n",
      "2021-10-24 03:12:13 INFO     EVAL - [epoch-37,    40] test_loss: 8.872 test_accuracy: 27.582\n"
     ]
    },
    {
     "name": "stdout",
     "output_type": "stream",
     "text": [
      "1239.0\n",
      "4492\n"
     ]
    },
    {
     "name": "stderr",
     "output_type": "stream",
     "text": [
      "2021-10-24 03:12:15 INFO     [epoch-37,    50] loss: 0.000\n",
      "2021-10-24 03:12:22 INFO     EVAL - [epoch-37,    50] test_loss: 8.867 test_accuracy: 27.716\n"
     ]
    },
    {
     "name": "stdout",
     "output_type": "stream",
     "text": [
      "1245.0\n",
      "4492\n"
     ]
    },
    {
     "name": "stderr",
     "output_type": "stream",
     "text": [
      "2021-10-24 03:12:25 INFO     [epoch-37,    60] loss: 0.000\n",
      "2021-10-24 03:12:32 INFO     EVAL - [epoch-37,    60] test_loss: 8.875 test_accuracy: 27.671\n"
     ]
    },
    {
     "name": "stdout",
     "output_type": "stream",
     "text": [
      "1243.0\n",
      "4492\n"
     ]
    },
    {
     "name": "stderr",
     "output_type": "stream",
     "text": [
      "2021-10-24 03:12:34 INFO     [epoch-37,    70] loss: 0.000\n",
      "2021-10-24 03:12:41 INFO     EVAL - [epoch-37,    70] test_loss: 8.877 test_accuracy: 27.649\n"
     ]
    },
    {
     "name": "stdout",
     "output_type": "stream",
     "text": [
      "1242.0\n",
      "4492\n"
     ]
    },
    {
     "name": "stderr",
     "output_type": "stream",
     "text": [
      "2021-10-24 03:12:43 INFO     [epoch-38,    10] loss: 0.000\n",
      "2021-10-24 03:12:50 INFO     EVAL - [epoch-38,    10] test_loss: 8.903 test_accuracy: 27.649\n"
     ]
    },
    {
     "name": "stdout",
     "output_type": "stream",
     "text": [
      "1242.0\n",
      "4492\n"
     ]
    },
    {
     "name": "stderr",
     "output_type": "stream",
     "text": [
      "2021-10-24 03:12:52 INFO     [epoch-38,    20] loss: 0.000\n",
      "2021-10-24 03:12:59 INFO     EVAL - [epoch-38,    20] test_loss: 8.907 test_accuracy: 27.560\n"
     ]
    },
    {
     "name": "stdout",
     "output_type": "stream",
     "text": [
      "1238.0\n",
      "4492\n"
     ]
    },
    {
     "name": "stderr",
     "output_type": "stream",
     "text": [
      "2021-10-24 03:13:02 INFO     [epoch-38,    30] loss: 0.000\n",
      "2021-10-24 03:13:09 INFO     EVAL - [epoch-38,    30] test_loss: 8.929 test_accuracy: 27.582\n"
     ]
    },
    {
     "name": "stdout",
     "output_type": "stream",
     "text": [
      "1239.0\n",
      "4492\n"
     ]
    },
    {
     "name": "stderr",
     "output_type": "stream",
     "text": [
      "2021-10-24 03:13:11 INFO     [epoch-38,    40] loss: 0.000\n",
      "2021-10-24 03:13:18 INFO     EVAL - [epoch-38,    40] test_loss: 8.943 test_accuracy: 27.671\n"
     ]
    },
    {
     "name": "stdout",
     "output_type": "stream",
     "text": [
      "1243.0\n",
      "4492\n"
     ]
    },
    {
     "name": "stderr",
     "output_type": "stream",
     "text": [
      "2021-10-24 03:13:20 INFO     [epoch-38,    50] loss: 0.000\n",
      "2021-10-24 03:13:27 INFO     EVAL - [epoch-38,    50] test_loss: 8.962 test_accuracy: 27.694\n"
     ]
    },
    {
     "name": "stdout",
     "output_type": "stream",
     "text": [
      "1244.0\n",
      "4492\n"
     ]
    },
    {
     "name": "stderr",
     "output_type": "stream",
     "text": [
      "2021-10-24 03:13:29 INFO     [epoch-38,    60] loss: 0.000\n",
      "2021-10-24 03:13:36 INFO     EVAL - [epoch-38,    60] test_loss: 8.980 test_accuracy: 27.605\n"
     ]
    },
    {
     "name": "stdout",
     "output_type": "stream",
     "text": [
      "1240.0\n",
      "4492\n"
     ]
    },
    {
     "name": "stderr",
     "output_type": "stream",
     "text": [
      "2021-10-24 03:13:38 INFO     [epoch-38,    70] loss: 0.000\n",
      "2021-10-24 03:13:45 INFO     EVAL - [epoch-38,    70] test_loss: 8.981 test_accuracy: 27.738\n"
     ]
    },
    {
     "name": "stdout",
     "output_type": "stream",
     "text": [
      "1246.0\n",
      "4492\n"
     ]
    },
    {
     "name": "stderr",
     "output_type": "stream",
     "text": [
      "2021-10-24 03:13:48 INFO     [epoch-39,    10] loss: 0.000\n",
      "2021-10-24 03:13:55 INFO     EVAL - [epoch-39,    10] test_loss: 8.997 test_accuracy: 27.738\n"
     ]
    },
    {
     "name": "stdout",
     "output_type": "stream",
     "text": [
      "1246.0\n",
      "4492\n"
     ]
    },
    {
     "name": "stderr",
     "output_type": "stream",
     "text": [
      "2021-10-24 03:13:57 INFO     [epoch-39,    20] loss: 0.000\n",
      "2021-10-24 03:14:04 INFO     EVAL - [epoch-39,    20] test_loss: 9.016 test_accuracy: 27.582\n"
     ]
    },
    {
     "name": "stdout",
     "output_type": "stream",
     "text": [
      "1239.0\n",
      "4492\n"
     ]
    },
    {
     "name": "stderr",
     "output_type": "stream",
     "text": [
      "2021-10-24 03:14:06 INFO     [epoch-39,    30] loss: 0.000\n",
      "2021-10-24 03:14:13 INFO     EVAL - [epoch-39,    30] test_loss: 9.008 test_accuracy: 27.783\n"
     ]
    },
    {
     "name": "stdout",
     "output_type": "stream",
     "text": [
      "1248.0\n",
      "4492\n"
     ]
    },
    {
     "name": "stderr",
     "output_type": "stream",
     "text": [
      "2021-10-24 03:14:15 INFO     [epoch-39,    40] loss: 0.000\n",
      "2021-10-24 03:14:22 INFO     EVAL - [epoch-39,    40] test_loss: 9.026 test_accuracy: 27.671\n"
     ]
    },
    {
     "name": "stdout",
     "output_type": "stream",
     "text": [
      "1243.0\n",
      "4492\n"
     ]
    },
    {
     "name": "stderr",
     "output_type": "stream",
     "text": [
      "2021-10-24 03:14:25 INFO     [epoch-39,    50] loss: 0.000\n",
      "2021-10-24 03:14:31 INFO     EVAL - [epoch-39,    50] test_loss: 9.045 test_accuracy: 27.605\n"
     ]
    },
    {
     "name": "stdout",
     "output_type": "stream",
     "text": [
      "1240.0\n",
      "4492\n"
     ]
    },
    {
     "name": "stderr",
     "output_type": "stream",
     "text": [
      "2021-10-24 03:14:34 INFO     [epoch-39,    60] loss: 0.000\n",
      "2021-10-24 03:14:41 INFO     EVAL - [epoch-39,    60] test_loss: 9.063 test_accuracy: 27.538\n"
     ]
    },
    {
     "name": "stdout",
     "output_type": "stream",
     "text": [
      "1237.0\n",
      "4492\n"
     ]
    },
    {
     "name": "stderr",
     "output_type": "stream",
     "text": [
      "2021-10-24 03:14:43 INFO     [epoch-39,    70] loss: 0.000\n",
      "2021-10-24 03:14:50 INFO     EVAL - [epoch-39,    70] test_loss: 9.069 test_accuracy: 27.649\n"
     ]
    },
    {
     "name": "stdout",
     "output_type": "stream",
     "text": [
      "1242.0\n",
      "4492\n"
     ]
    },
    {
     "name": "stderr",
     "output_type": "stream",
     "text": [
      "2021-10-24 03:14:52 INFO     [epoch-40,    10] loss: 0.000\n",
      "2021-10-24 03:14:59 INFO     EVAL - [epoch-40,    10] test_loss: 9.073 test_accuracy: 27.738\n"
     ]
    },
    {
     "name": "stdout",
     "output_type": "stream",
     "text": [
      "1246.0\n",
      "4492\n"
     ]
    },
    {
     "name": "stderr",
     "output_type": "stream",
     "text": [
      "2021-10-24 03:15:02 INFO     [epoch-40,    20] loss: 0.000\n",
      "2021-10-24 03:15:09 INFO     EVAL - [epoch-40,    20] test_loss: 9.099 test_accuracy: 27.716\n"
     ]
    },
    {
     "name": "stdout",
     "output_type": "stream",
     "text": [
      "1245.0\n",
      "4492\n"
     ]
    },
    {
     "name": "stderr",
     "output_type": "stream",
     "text": [
      "2021-10-24 03:15:11 INFO     [epoch-40,    30] loss: 0.000\n",
      "2021-10-24 03:15:18 INFO     EVAL - [epoch-40,    30] test_loss: 9.127 test_accuracy: 27.582\n"
     ]
    },
    {
     "name": "stdout",
     "output_type": "stream",
     "text": [
      "1239.0\n",
      "4492\n"
     ]
    },
    {
     "name": "stderr",
     "output_type": "stream",
     "text": [
      "2021-10-24 03:15:20 INFO     [epoch-40,    40] loss: 0.000\n",
      "2021-10-24 03:15:27 INFO     EVAL - [epoch-40,    40] test_loss: 9.115 test_accuracy: 27.872\n"
     ]
    },
    {
     "name": "stdout",
     "output_type": "stream",
     "text": [
      "1252.0\n",
      "4492\n"
     ]
    },
    {
     "name": "stderr",
     "output_type": "stream",
     "text": [
      "2021-10-24 03:15:29 INFO     [epoch-40,    50] loss: 0.000\n",
      "2021-10-24 03:15:36 INFO     EVAL - [epoch-40,    50] test_loss: 9.127 test_accuracy: 27.850\n"
     ]
    },
    {
     "name": "stdout",
     "output_type": "stream",
     "text": [
      "1251.0\n",
      "4492\n"
     ]
    },
    {
     "name": "stderr",
     "output_type": "stream",
     "text": [
      "2021-10-24 03:15:39 INFO     [epoch-40,    60] loss: 0.000\n",
      "2021-10-24 03:15:46 INFO     EVAL - [epoch-40,    60] test_loss: 9.140 test_accuracy: 27.738\n"
     ]
    },
    {
     "name": "stdout",
     "output_type": "stream",
     "text": [
      "1246.0\n",
      "4492\n"
     ]
    },
    {
     "name": "stderr",
     "output_type": "stream",
     "text": [
      "2021-10-24 03:15:48 INFO     [epoch-40,    70] loss: 0.000\n",
      "2021-10-24 03:15:55 INFO     EVAL - [epoch-40,    70] test_loss: 9.149 test_accuracy: 27.671\n"
     ]
    },
    {
     "name": "stdout",
     "output_type": "stream",
     "text": [
      "1243.0\n",
      "4492\n"
     ]
    },
    {
     "name": "stderr",
     "output_type": "stream",
     "text": [
      "2021-10-24 03:15:57 INFO     [epoch-41,    10] loss: 0.000\n",
      "2021-10-24 03:16:04 INFO     EVAL - [epoch-41,    10] test_loss: 9.149 test_accuracy: 27.805\n"
     ]
    },
    {
     "name": "stdout",
     "output_type": "stream",
     "text": [
      "1249.0\n",
      "4492\n"
     ]
    },
    {
     "name": "stderr",
     "output_type": "stream",
     "text": [
      "2021-10-24 03:16:06 INFO     [epoch-41,    20] loss: 0.000\n",
      "2021-10-24 03:16:13 INFO     EVAL - [epoch-41,    20] test_loss: 9.174 test_accuracy: 27.671\n"
     ]
    },
    {
     "name": "stdout",
     "output_type": "stream",
     "text": [
      "1243.0\n",
      "4492\n"
     ]
    },
    {
     "name": "stderr",
     "output_type": "stream",
     "text": [
      "2021-10-24 03:16:15 INFO     [epoch-41,    30] loss: 0.000\n",
      "2021-10-24 03:16:22 INFO     EVAL - [epoch-41,    30] test_loss: 9.195 test_accuracy: 27.649\n"
     ]
    },
    {
     "name": "stdout",
     "output_type": "stream",
     "text": [
      "1242.0\n",
      "4492\n"
     ]
    },
    {
     "name": "stderr",
     "output_type": "stream",
     "text": [
      "2021-10-24 03:16:25 INFO     [epoch-41,    40] loss: 0.000\n",
      "2021-10-24 03:16:32 INFO     EVAL - [epoch-41,    40] test_loss: 9.210 test_accuracy: 27.783\n"
     ]
    },
    {
     "name": "stdout",
     "output_type": "stream",
     "text": [
      "1248.0\n",
      "4492\n"
     ]
    },
    {
     "name": "stderr",
     "output_type": "stream",
     "text": [
      "2021-10-24 03:16:34 INFO     [epoch-41,    50] loss: 0.000\n",
      "2021-10-24 03:16:41 INFO     EVAL - [epoch-41,    50] test_loss: 9.216 test_accuracy: 27.716\n"
     ]
    },
    {
     "name": "stdout",
     "output_type": "stream",
     "text": [
      "1245.0\n",
      "4492\n"
     ]
    },
    {
     "name": "stderr",
     "output_type": "stream",
     "text": [
      "2021-10-24 03:16:43 INFO     [epoch-41,    60] loss: 0.000\n",
      "2021-10-24 03:16:50 INFO     EVAL - [epoch-41,    60] test_loss: 9.216 test_accuracy: 27.850\n"
     ]
    },
    {
     "name": "stdout",
     "output_type": "stream",
     "text": [
      "1251.0\n",
      "4492\n"
     ]
    },
    {
     "name": "stderr",
     "output_type": "stream",
     "text": [
      "2021-10-24 03:16:52 INFO     [epoch-41,    70] loss: 0.000\n",
      "2021-10-24 03:16:59 INFO     EVAL - [epoch-41,    70] test_loss: 9.221 test_accuracy: 27.649\n"
     ]
    },
    {
     "name": "stdout",
     "output_type": "stream",
     "text": [
      "1242.0\n",
      "4492\n"
     ]
    },
    {
     "name": "stderr",
     "output_type": "stream",
     "text": [
      "2021-10-24 03:17:02 INFO     [epoch-42,    10] loss: 0.000\n",
      "2021-10-24 03:17:09 INFO     EVAL - [epoch-42,    10] test_loss: 9.218 test_accuracy: 27.760\n"
     ]
    },
    {
     "name": "stdout",
     "output_type": "stream",
     "text": [
      "1247.0\n",
      "4492\n"
     ]
    },
    {
     "name": "stderr",
     "output_type": "stream",
     "text": [
      "2021-10-24 03:17:11 INFO     [epoch-42,    20] loss: 0.000\n",
      "2021-10-24 03:17:18 INFO     EVAL - [epoch-42,    20] test_loss: 9.240 test_accuracy: 27.805\n"
     ]
    },
    {
     "name": "stdout",
     "output_type": "stream",
     "text": [
      "1249.0\n",
      "4492\n"
     ]
    },
    {
     "name": "stderr",
     "output_type": "stream",
     "text": [
      "2021-10-24 03:17:20 INFO     [epoch-42,    30] loss: 0.000\n",
      "2021-10-24 03:17:27 INFO     EVAL - [epoch-42,    30] test_loss: 9.255 test_accuracy: 27.627\n"
     ]
    },
    {
     "name": "stdout",
     "output_type": "stream",
     "text": [
      "1241.0\n",
      "4492\n"
     ]
    },
    {
     "name": "stderr",
     "output_type": "stream",
     "text": [
      "2021-10-24 03:17:29 INFO     [epoch-42,    40] loss: 0.000\n",
      "2021-10-24 03:17:36 INFO     EVAL - [epoch-42,    40] test_loss: 9.267 test_accuracy: 27.694\n"
     ]
    },
    {
     "name": "stdout",
     "output_type": "stream",
     "text": [
      "1244.0\n",
      "4492\n"
     ]
    },
    {
     "name": "stderr",
     "output_type": "stream",
     "text": [
      "2021-10-24 03:17:38 INFO     [epoch-42,    50] loss: 0.000\n",
      "2021-10-24 03:17:45 INFO     EVAL - [epoch-42,    50] test_loss: 9.278 test_accuracy: 27.716\n"
     ]
    },
    {
     "name": "stdout",
     "output_type": "stream",
     "text": [
      "1245.0\n",
      "4492\n"
     ]
    },
    {
     "name": "stderr",
     "output_type": "stream",
     "text": [
      "2021-10-24 03:17:48 INFO     [epoch-42,    60] loss: 0.000\n",
      "2021-10-24 03:17:55 INFO     EVAL - [epoch-42,    60] test_loss: 9.286 test_accuracy: 27.738\n"
     ]
    },
    {
     "name": "stdout",
     "output_type": "stream",
     "text": [
      "1246.0\n",
      "4492\n"
     ]
    },
    {
     "name": "stderr",
     "output_type": "stream",
     "text": [
      "2021-10-24 03:17:57 INFO     [epoch-42,    70] loss: 0.000\n",
      "2021-10-24 03:18:04 INFO     EVAL - [epoch-42,    70] test_loss: 9.289 test_accuracy: 27.671\n"
     ]
    },
    {
     "name": "stdout",
     "output_type": "stream",
     "text": [
      "1243.0\n",
      "4492\n"
     ]
    },
    {
     "name": "stderr",
     "output_type": "stream",
     "text": [
      "2021-10-24 03:18:06 INFO     [epoch-43,    10] loss: 0.000\n",
      "2021-10-24 03:18:13 INFO     EVAL - [epoch-43,    10] test_loss: 9.309 test_accuracy: 27.493\n"
     ]
    },
    {
     "name": "stdout",
     "output_type": "stream",
     "text": [
      "1235.0\n",
      "4492\n"
     ]
    },
    {
     "name": "stderr",
     "output_type": "stream",
     "text": [
      "2021-10-24 03:18:15 INFO     [epoch-43,    20] loss: 0.000\n",
      "2021-10-24 03:18:22 INFO     EVAL - [epoch-43,    20] test_loss: 9.302 test_accuracy: 27.760\n"
     ]
    },
    {
     "name": "stdout",
     "output_type": "stream",
     "text": [
      "1247.0\n",
      "4492\n"
     ]
    },
    {
     "name": "stderr",
     "output_type": "stream",
     "text": [
      "2021-10-24 03:18:24 INFO     [epoch-43,    30] loss: 0.000\n",
      "2021-10-24 03:18:31 INFO     EVAL - [epoch-43,    30] test_loss: 9.312 test_accuracy: 27.783\n"
     ]
    },
    {
     "name": "stdout",
     "output_type": "stream",
     "text": [
      "1248.0\n",
      "4492\n"
     ]
    },
    {
     "name": "stderr",
     "output_type": "stream",
     "text": [
      "2021-10-24 03:18:34 INFO     [epoch-43,    40] loss: 0.000\n",
      "2021-10-24 03:18:41 INFO     EVAL - [epoch-43,    40] test_loss: 9.331 test_accuracy: 27.850\n"
     ]
    },
    {
     "name": "stdout",
     "output_type": "stream",
     "text": [
      "1251.0\n",
      "4492\n"
     ]
    },
    {
     "name": "stderr",
     "output_type": "stream",
     "text": [
      "2021-10-24 03:18:43 INFO     [epoch-43,    50] loss: 0.000\n",
      "2021-10-24 03:18:50 INFO     EVAL - [epoch-43,    50] test_loss: 9.362 test_accuracy: 27.605\n"
     ]
    },
    {
     "name": "stdout",
     "output_type": "stream",
     "text": [
      "1240.0\n",
      "4492\n"
     ]
    },
    {
     "name": "stderr",
     "output_type": "stream",
     "text": [
      "2021-10-24 03:18:52 INFO     [epoch-43,    60] loss: 0.000\n",
      "2021-10-24 03:18:59 INFO     EVAL - [epoch-43,    60] test_loss: 9.358 test_accuracy: 27.627\n"
     ]
    },
    {
     "name": "stdout",
     "output_type": "stream",
     "text": [
      "1241.0\n",
      "4492\n"
     ]
    },
    {
     "name": "stderr",
     "output_type": "stream",
     "text": [
      "2021-10-24 03:19:02 INFO     [epoch-43,    70] loss: 0.000\n",
      "2021-10-24 03:19:09 INFO     EVAL - [epoch-43,    70] test_loss: 9.351 test_accuracy: 27.738\n"
     ]
    },
    {
     "name": "stdout",
     "output_type": "stream",
     "text": [
      "1246.0\n",
      "4492\n"
     ]
    },
    {
     "name": "stderr",
     "output_type": "stream",
     "text": [
      "2021-10-24 03:19:11 INFO     [epoch-44,    10] loss: 0.000\n",
      "2021-10-24 03:19:18 INFO     EVAL - [epoch-44,    10] test_loss: 9.358 test_accuracy: 27.760\n"
     ]
    },
    {
     "name": "stdout",
     "output_type": "stream",
     "text": [
      "1247.0\n",
      "4492\n"
     ]
    },
    {
     "name": "stderr",
     "output_type": "stream",
     "text": [
      "2021-10-24 03:19:20 INFO     [epoch-44,    20] loss: 0.000\n",
      "2021-10-24 03:19:27 INFO     EVAL - [epoch-44,    20] test_loss: 9.375 test_accuracy: 27.582\n"
     ]
    },
    {
     "name": "stdout",
     "output_type": "stream",
     "text": [
      "1239.0\n",
      "4492\n"
     ]
    },
    {
     "name": "stderr",
     "output_type": "stream",
     "text": [
      "2021-10-24 03:19:29 INFO     [epoch-44,    30] loss: 0.000\n",
      "2021-10-24 03:19:36 INFO     EVAL - [epoch-44,    30] test_loss: 9.373 test_accuracy: 27.850\n"
     ]
    },
    {
     "name": "stdout",
     "output_type": "stream",
     "text": [
      "1251.0\n",
      "4492\n"
     ]
    },
    {
     "name": "stderr",
     "output_type": "stream",
     "text": [
      "2021-10-24 03:19:38 INFO     [epoch-44,    40] loss: 0.000\n",
      "2021-10-24 03:19:45 INFO     EVAL - [epoch-44,    40] test_loss: 9.388 test_accuracy: 27.850\n"
     ]
    },
    {
     "name": "stdout",
     "output_type": "stream",
     "text": [
      "1251.0\n",
      "4492\n"
     ]
    },
    {
     "name": "stderr",
     "output_type": "stream",
     "text": [
      "2021-10-24 03:19:48 INFO     [epoch-44,    50] loss: 0.000\n",
      "2021-10-24 03:19:55 INFO     EVAL - [epoch-44,    50] test_loss: 9.412 test_accuracy: 27.605\n"
     ]
    },
    {
     "name": "stdout",
     "output_type": "stream",
     "text": [
      "1240.0\n",
      "4492\n"
     ]
    },
    {
     "name": "stderr",
     "output_type": "stream",
     "text": [
      "2021-10-24 03:19:57 INFO     [epoch-44,    60] loss: 0.000\n",
      "2021-10-24 03:20:04 INFO     EVAL - [epoch-44,    60] test_loss: 9.412 test_accuracy: 27.694\n"
     ]
    },
    {
     "name": "stdout",
     "output_type": "stream",
     "text": [
      "1244.0\n",
      "4492\n"
     ]
    },
    {
     "name": "stderr",
     "output_type": "stream",
     "text": [
      "2021-10-24 03:20:06 INFO     [epoch-44,    70] loss: 0.000\n",
      "2021-10-24 03:20:13 INFO     EVAL - [epoch-44,    70] test_loss: 9.415 test_accuracy: 27.783\n"
     ]
    },
    {
     "name": "stdout",
     "output_type": "stream",
     "text": [
      "1248.0\n",
      "4492\n"
     ]
    },
    {
     "name": "stderr",
     "output_type": "stream",
     "text": [
      "2021-10-24 03:20:15 INFO     [epoch-45,    10] loss: 0.000\n",
      "2021-10-24 03:20:22 INFO     EVAL - [epoch-45,    10] test_loss: 9.430 test_accuracy: 27.694\n"
     ]
    },
    {
     "name": "stdout",
     "output_type": "stream",
     "text": [
      "1244.0\n",
      "4492\n"
     ]
    },
    {
     "name": "stderr",
     "output_type": "stream",
     "text": [
      "2021-10-24 03:20:24 INFO     [epoch-45,    20] loss: 0.000\n",
      "2021-10-24 03:20:31 INFO     EVAL - [epoch-45,    20] test_loss: 9.437 test_accuracy: 27.605\n"
     ]
    },
    {
     "name": "stdout",
     "output_type": "stream",
     "text": [
      "1240.0\n",
      "4492\n"
     ]
    },
    {
     "name": "stderr",
     "output_type": "stream",
     "text": [
      "2021-10-24 03:20:34 INFO     [epoch-45,    30] loss: 0.000\n",
      "2021-10-24 03:20:41 INFO     EVAL - [epoch-45,    30] test_loss: 9.431 test_accuracy: 27.760\n"
     ]
    },
    {
     "name": "stdout",
     "output_type": "stream",
     "text": [
      "1247.0\n",
      "4492\n"
     ]
    },
    {
     "name": "stderr",
     "output_type": "stream",
     "text": [
      "2021-10-24 03:20:43 INFO     [epoch-45,    40] loss: 0.000\n",
      "2021-10-24 03:20:50 INFO     EVAL - [epoch-45,    40] test_loss: 9.442 test_accuracy: 27.760\n"
     ]
    },
    {
     "name": "stdout",
     "output_type": "stream",
     "text": [
      "1247.0\n",
      "4492\n"
     ]
    },
    {
     "name": "stderr",
     "output_type": "stream",
     "text": [
      "2021-10-24 03:20:52 INFO     [epoch-45,    50] loss: 0.000\n",
      "2021-10-24 03:20:59 INFO     EVAL - [epoch-45,    50] test_loss: 9.455 test_accuracy: 27.649\n"
     ]
    },
    {
     "name": "stdout",
     "output_type": "stream",
     "text": [
      "1242.0\n",
      "4492\n"
     ]
    },
    {
     "name": "stderr",
     "output_type": "stream",
     "text": [
      "2021-10-24 03:21:02 INFO     [epoch-45,    60] loss: 0.000\n",
      "2021-10-24 03:21:09 INFO     EVAL - [epoch-45,    60] test_loss: 9.471 test_accuracy: 27.716\n"
     ]
    },
    {
     "name": "stdout",
     "output_type": "stream",
     "text": [
      "1245.0\n",
      "4492\n"
     ]
    },
    {
     "name": "stderr",
     "output_type": "stream",
     "text": [
      "2021-10-24 03:21:11 INFO     [epoch-45,    70] loss: 0.000\n",
      "2021-10-24 03:21:18 INFO     EVAL - [epoch-45,    70] test_loss: 9.484 test_accuracy: 27.760\n"
     ]
    },
    {
     "name": "stdout",
     "output_type": "stream",
     "text": [
      "1247.0\n",
      "4492\n"
     ]
    },
    {
     "name": "stderr",
     "output_type": "stream",
     "text": [
      "2021-10-24 03:21:20 INFO     [epoch-46,    10] loss: 0.000\n",
      "2021-10-24 03:21:27 INFO     EVAL - [epoch-46,    10] test_loss: 9.506 test_accuracy: 27.716\n"
     ]
    },
    {
     "name": "stdout",
     "output_type": "stream",
     "text": [
      "1245.0\n",
      "4492\n"
     ]
    },
    {
     "name": "stderr",
     "output_type": "stream",
     "text": [
      "2021-10-24 03:21:29 INFO     [epoch-46,    20] loss: 0.000\n",
      "2021-10-24 03:21:36 INFO     EVAL - [epoch-46,    20] test_loss: 9.513 test_accuracy: 27.716\n"
     ]
    },
    {
     "name": "stdout",
     "output_type": "stream",
     "text": [
      "1245.0\n",
      "4492\n"
     ]
    },
    {
     "name": "stderr",
     "output_type": "stream",
     "text": [
      "2021-10-24 03:21:38 INFO     [epoch-46,    30] loss: 0.000\n",
      "2021-10-24 03:21:45 INFO     EVAL - [epoch-46,    30] test_loss: 9.502 test_accuracy: 27.694\n"
     ]
    },
    {
     "name": "stdout",
     "output_type": "stream",
     "text": [
      "1244.0\n",
      "4492\n"
     ]
    },
    {
     "name": "stderr",
     "output_type": "stream",
     "text": [
      "2021-10-24 03:21:48 INFO     [epoch-46,    40] loss: 0.000\n",
      "2021-10-24 03:21:55 INFO     EVAL - [epoch-46,    40] test_loss: 9.514 test_accuracy: 27.649\n"
     ]
    },
    {
     "name": "stdout",
     "output_type": "stream",
     "text": [
      "1242.0\n",
      "4492\n"
     ]
    },
    {
     "name": "stderr",
     "output_type": "stream",
     "text": [
      "2021-10-24 03:21:57 INFO     [epoch-46,    50] loss: 0.000\n",
      "2021-10-24 03:22:04 INFO     EVAL - [epoch-46,    50] test_loss: 9.530 test_accuracy: 27.760\n"
     ]
    },
    {
     "name": "stdout",
     "output_type": "stream",
     "text": [
      "1247.0\n",
      "4492\n"
     ]
    },
    {
     "name": "stderr",
     "output_type": "stream",
     "text": [
      "2021-10-24 03:22:06 INFO     [epoch-46,    60] loss: 0.000\n",
      "2021-10-24 03:22:13 INFO     EVAL - [epoch-46,    60] test_loss: 9.534 test_accuracy: 27.738\n"
     ]
    },
    {
     "name": "stdout",
     "output_type": "stream",
     "text": [
      "1246.0\n",
      "4492\n"
     ]
    },
    {
     "name": "stderr",
     "output_type": "stream",
     "text": [
      "2021-10-24 03:22:15 INFO     [epoch-46,    70] loss: 0.000\n",
      "2021-10-24 03:22:22 INFO     EVAL - [epoch-46,    70] test_loss: 9.538 test_accuracy: 27.760\n"
     ]
    },
    {
     "name": "stdout",
     "output_type": "stream",
     "text": [
      "1247.0\n",
      "4492\n"
     ]
    },
    {
     "name": "stderr",
     "output_type": "stream",
     "text": [
      "2021-10-24 03:22:25 INFO     [epoch-47,    10] loss: 0.000\n",
      "2021-10-24 03:22:31 INFO     EVAL - [epoch-47,    10] test_loss: 9.539 test_accuracy: 27.716\n"
     ]
    },
    {
     "name": "stdout",
     "output_type": "stream",
     "text": [
      "1245.0\n",
      "4492\n"
     ]
    },
    {
     "name": "stderr",
     "output_type": "stream",
     "text": [
      "2021-10-24 03:22:34 INFO     [epoch-47,    20] loss: 0.000\n",
      "2021-10-24 03:22:41 INFO     EVAL - [epoch-47,    20] test_loss: 9.543 test_accuracy: 27.649\n"
     ]
    },
    {
     "name": "stdout",
     "output_type": "stream",
     "text": [
      "1242.0\n",
      "4492\n"
     ]
    },
    {
     "name": "stderr",
     "output_type": "stream",
     "text": [
      "2021-10-24 03:22:43 INFO     [epoch-47,    30] loss: 0.000\n",
      "2021-10-24 03:22:50 INFO     EVAL - [epoch-47,    30] test_loss: 9.573 test_accuracy: 27.627\n"
     ]
    },
    {
     "name": "stdout",
     "output_type": "stream",
     "text": [
      "1241.0\n",
      "4492\n"
     ]
    },
    {
     "name": "stderr",
     "output_type": "stream",
     "text": [
      "2021-10-24 03:22:52 INFO     [epoch-47,    40] loss: 0.000\n",
      "2021-10-24 03:22:59 INFO     EVAL - [epoch-47,    40] test_loss: 9.588 test_accuracy: 27.716\n"
     ]
    },
    {
     "name": "stdout",
     "output_type": "stream",
     "text": [
      "1245.0\n",
      "4492\n"
     ]
    },
    {
     "name": "stderr",
     "output_type": "stream",
     "text": [
      "2021-10-24 03:23:02 INFO     [epoch-47,    50] loss: 0.000\n",
      "2021-10-24 03:23:09 INFO     EVAL - [epoch-47,    50] test_loss: 9.591 test_accuracy: 27.783\n"
     ]
    },
    {
     "name": "stdout",
     "output_type": "stream",
     "text": [
      "1248.0\n",
      "4492\n"
     ]
    },
    {
     "name": "stderr",
     "output_type": "stream",
     "text": [
      "2021-10-24 03:23:11 INFO     [epoch-47,    60] loss: 0.000\n",
      "2021-10-24 03:23:18 INFO     EVAL - [epoch-47,    60] test_loss: 9.581 test_accuracy: 27.694\n"
     ]
    },
    {
     "name": "stdout",
     "output_type": "stream",
     "text": [
      "1244.0\n",
      "4492\n"
     ]
    },
    {
     "name": "stderr",
     "output_type": "stream",
     "text": [
      "2021-10-24 03:23:20 INFO     [epoch-47,    70] loss: 0.000\n",
      "2021-10-24 03:23:27 INFO     EVAL - [epoch-47,    70] test_loss: 9.595 test_accuracy: 27.627\n"
     ]
    },
    {
     "name": "stdout",
     "output_type": "stream",
     "text": [
      "1241.0\n",
      "4492\n"
     ]
    },
    {
     "name": "stderr",
     "output_type": "stream",
     "text": [
      "2021-10-24 03:23:29 INFO     [epoch-48,    10] loss: 0.000\n",
      "2021-10-24 03:23:36 INFO     EVAL - [epoch-48,    10] test_loss: 9.632 test_accuracy: 27.538\n"
     ]
    },
    {
     "name": "stdout",
     "output_type": "stream",
     "text": [
      "1237.0\n",
      "4492\n"
     ]
    },
    {
     "name": "stderr",
     "output_type": "stream",
     "text": [
      "2021-10-24 03:23:39 INFO     [epoch-48,    20] loss: 0.000\n",
      "2021-10-24 03:23:46 INFO     EVAL - [epoch-48,    20] test_loss: 9.641 test_accuracy: 27.516\n"
     ]
    },
    {
     "name": "stdout",
     "output_type": "stream",
     "text": [
      "1236.0\n",
      "4492\n"
     ]
    },
    {
     "name": "stderr",
     "output_type": "stream",
     "text": [
      "2021-10-24 03:23:48 INFO     [epoch-48,    30] loss: 0.000\n",
      "2021-10-24 03:23:55 INFO     EVAL - [epoch-48,    30] test_loss: 9.626 test_accuracy: 27.671\n"
     ]
    },
    {
     "name": "stdout",
     "output_type": "stream",
     "text": [
      "1243.0\n",
      "4492\n"
     ]
    },
    {
     "name": "stderr",
     "output_type": "stream",
     "text": [
      "2021-10-24 03:23:57 INFO     [epoch-48,    40] loss: 0.000\n",
      "2021-10-24 03:24:04 INFO     EVAL - [epoch-48,    40] test_loss: 9.612 test_accuracy: 27.738\n"
     ]
    },
    {
     "name": "stdout",
     "output_type": "stream",
     "text": [
      "1246.0\n",
      "4492\n"
     ]
    },
    {
     "name": "stderr",
     "output_type": "stream",
     "text": [
      "2021-10-24 03:24:06 INFO     [epoch-48,    50] loss: 0.000\n",
      "2021-10-24 03:24:13 INFO     EVAL - [epoch-48,    50] test_loss: 9.633 test_accuracy: 27.605\n"
     ]
    },
    {
     "name": "stdout",
     "output_type": "stream",
     "text": [
      "1240.0\n",
      "4492\n"
     ]
    },
    {
     "name": "stderr",
     "output_type": "stream",
     "text": [
      "2021-10-24 03:24:15 INFO     [epoch-48,    60] loss: 0.000\n",
      "2021-10-24 03:24:22 INFO     EVAL - [epoch-48,    60] test_loss: 9.644 test_accuracy: 27.627\n"
     ]
    },
    {
     "name": "stdout",
     "output_type": "stream",
     "text": [
      "1241.0\n",
      "4492\n"
     ]
    },
    {
     "name": "stderr",
     "output_type": "stream",
     "text": [
      "2021-10-24 03:24:25 INFO     [epoch-48,    70] loss: 0.000\n",
      "2021-10-24 03:24:32 INFO     EVAL - [epoch-48,    70] test_loss: 9.644 test_accuracy: 27.649\n"
     ]
    },
    {
     "name": "stdout",
     "output_type": "stream",
     "text": [
      "1242.0\n",
      "4492\n"
     ]
    },
    {
     "name": "stderr",
     "output_type": "stream",
     "text": [
      "2021-10-24 03:24:34 INFO     [epoch-49,    10] loss: 0.000\n",
      "2021-10-24 03:24:41 INFO     EVAL - [epoch-49,    10] test_loss: 9.636 test_accuracy: 27.827\n"
     ]
    },
    {
     "name": "stdout",
     "output_type": "stream",
     "text": [
      "1250.0\n",
      "4492\n"
     ]
    },
    {
     "name": "stderr",
     "output_type": "stream",
     "text": [
      "2021-10-24 03:24:43 INFO     [epoch-49,    20] loss: 0.000\n",
      "2021-10-24 03:24:50 INFO     EVAL - [epoch-49,    20] test_loss: 9.661 test_accuracy: 27.671\n"
     ]
    },
    {
     "name": "stdout",
     "output_type": "stream",
     "text": [
      "1243.0\n",
      "4492\n"
     ]
    },
    {
     "name": "stderr",
     "output_type": "stream",
     "text": [
      "2021-10-24 03:24:52 INFO     [epoch-49,    30] loss: 0.000\n",
      "2021-10-24 03:24:59 INFO     EVAL - [epoch-49,    30] test_loss: 9.687 test_accuracy: 27.671\n"
     ]
    },
    {
     "name": "stdout",
     "output_type": "stream",
     "text": [
      "1243.0\n",
      "4492\n"
     ]
    },
    {
     "name": "stderr",
     "output_type": "stream",
     "text": [
      "2021-10-24 03:25:02 INFO     [epoch-49,    40] loss: 0.000\n",
      "2021-10-24 03:25:09 INFO     EVAL - [epoch-49,    40] test_loss: 9.684 test_accuracy: 27.627\n"
     ]
    },
    {
     "name": "stdout",
     "output_type": "stream",
     "text": [
      "1241.0\n",
      "4492\n"
     ]
    },
    {
     "name": "stderr",
     "output_type": "stream",
     "text": [
      "2021-10-24 03:25:11 INFO     [epoch-49,    50] loss: 0.000\n",
      "2021-10-24 03:25:18 INFO     EVAL - [epoch-49,    50] test_loss: 9.695 test_accuracy: 27.671\n"
     ]
    },
    {
     "name": "stdout",
     "output_type": "stream",
     "text": [
      "1243.0\n",
      "4492\n"
     ]
    },
    {
     "name": "stderr",
     "output_type": "stream",
     "text": [
      "2021-10-24 03:25:20 INFO     [epoch-49,    60] loss: 0.000\n",
      "2021-10-24 03:25:27 INFO     EVAL - [epoch-49,    60] test_loss: 9.740 test_accuracy: 27.560\n"
     ]
    },
    {
     "name": "stdout",
     "output_type": "stream",
     "text": [
      "1238.0\n",
      "4492\n"
     ]
    },
    {
     "name": "stderr",
     "output_type": "stream",
     "text": [
      "2021-10-24 03:25:29 INFO     [epoch-49,    70] loss: 0.000\n",
      "2021-10-24 03:25:36 INFO     EVAL - [epoch-49,    70] test_loss: 9.710 test_accuracy: 27.694\n"
     ]
    },
    {
     "name": "stdout",
     "output_type": "stream",
     "text": [
      "1244.0\n",
      "4492\n"
     ]
    },
    {
     "name": "stderr",
     "output_type": "stream",
     "text": [
      "2021-10-24 03:25:39 INFO     [epoch-50,    10] loss: 0.000\n",
      "2021-10-24 03:25:46 INFO     EVAL - [epoch-50,    10] test_loss: 9.703 test_accuracy: 28.005\n"
     ]
    },
    {
     "name": "stdout",
     "output_type": "stream",
     "text": [
      "1258.0\n",
      "4492\n"
     ]
    },
    {
     "name": "stderr",
     "output_type": "stream",
     "text": [
      "2021-10-24 03:25:48 INFO     [epoch-50,    20] loss: 0.000\n",
      "2021-10-24 03:25:55 INFO     EVAL - [epoch-50,    20] test_loss: 9.694 test_accuracy: 27.916\n"
     ]
    },
    {
     "name": "stdout",
     "output_type": "stream",
     "text": [
      "1254.0\n",
      "4492\n"
     ]
    },
    {
     "name": "stderr",
     "output_type": "stream",
     "text": [
      "2021-10-24 03:25:57 INFO     [epoch-50,    30] loss: 0.000\n",
      "2021-10-24 03:26:04 INFO     EVAL - [epoch-50,    30] test_loss: 9.725 test_accuracy: 27.805\n"
     ]
    },
    {
     "name": "stdout",
     "output_type": "stream",
     "text": [
      "1249.0\n",
      "4492\n"
     ]
    },
    {
     "name": "stderr",
     "output_type": "stream",
     "text": [
      "2021-10-24 03:26:06 INFO     [epoch-50,    40] loss: 0.000\n",
      "2021-10-24 03:26:13 INFO     EVAL - [epoch-50,    40] test_loss: 9.757 test_accuracy: 27.783\n"
     ]
    },
    {
     "name": "stdout",
     "output_type": "stream",
     "text": [
      "1248.0\n",
      "4492\n"
     ]
    },
    {
     "name": "stderr",
     "output_type": "stream",
     "text": [
      "2021-10-24 03:26:15 INFO     [epoch-50,    50] loss: 0.000\n",
      "2021-10-24 03:26:22 INFO     EVAL - [epoch-50,    50] test_loss: 9.764 test_accuracy: 27.760\n"
     ]
    },
    {
     "name": "stdout",
     "output_type": "stream",
     "text": [
      "1247.0\n",
      "4492\n"
     ]
    },
    {
     "name": "stderr",
     "output_type": "stream",
     "text": [
      "2021-10-24 03:26:25 INFO     [epoch-50,    60] loss: 0.000\n",
      "2021-10-24 03:26:32 INFO     EVAL - [epoch-50,    60] test_loss: 9.789 test_accuracy: 27.605\n"
     ]
    },
    {
     "name": "stdout",
     "output_type": "stream",
     "text": [
      "1240.0\n",
      "4492\n"
     ]
    },
    {
     "name": "stderr",
     "output_type": "stream",
     "text": [
      "2021-10-24 03:26:34 INFO     [epoch-50,    70] loss: 0.000\n",
      "2021-10-24 03:26:41 INFO     EVAL - [epoch-50,    70] test_loss: 9.779 test_accuracy: 27.671\n",
      "2021-10-24 03:26:41 INFO     Finished Training\n"
     ]
    },
    {
     "name": "stdout",
     "output_type": "stream",
     "text": [
      "1243.0\n",
      "4492\n"
     ]
    }
   ],
   "source": [
    "torch.cuda.empty_cache()\n",
    "dataset = Load_Dataset(atac_path, rna_path, celltype_function)\n",
    "model = Net(dataset)\n",
    "model.to('cuda')\n",
    "########### VARIABLES ##########\n",
    "\n",
    "test_pct = 0.2\n",
    "batch_size = 256\n",
    "learning_rate = 0.001\n",
    "# momentum = 0.9\n",
    "epochs = 50\n",
    "loss_print_freq = 10\n",
    "eval_freq = 10\n",
    "criterion = nn.CrossEntropyLoss()\n",
    "optimizer = optim.Adam(model.parameters(), lr=learning_rate)\n",
    "\n",
    "########### LET'S GO ##########\n",
    "\n",
    "train(dataset, model, batch_size, optimizer, learning_rate, criterion, epochs, \n",
    "      test_pct, loss_print_freq, eval_freq)"
   ]
  },
  {
   "cell_type": "code",
   "execution_count": 111,
   "metadata": {},
   "outputs": [],
   "source": []
  },
  {
   "cell_type": "code",
   "execution_count": null,
   "metadata": {},
   "outputs": [],
   "source": [
    "# xi = torch.randn(20,1,dataset.n_peaks)\n",
    "# c = CNN(dataset)\n",
    "# c(xi)"
   ]
  },
  {
   "cell_type": "code",
   "execution_count": null,
   "metadata": {},
   "outputs": [],
   "source": []
  }
 ],
 "metadata": {
  "kernelspec": {
   "display_name": "kernel_test",
   "language": "python",
   "name": "kernel_test"
  },
  "language_info": {
   "codemirror_mode": {
    "name": "ipython",
    "version": 3
   },
   "file_extension": ".py",
   "mimetype": "text/x-python",
   "name": "python",
   "nbconvert_exporter": "python",
   "pygments_lexer": "ipython3",
   "version": "3.9.7"
  }
 },
 "nbformat": 4,
 "nbformat_minor": 2
}
