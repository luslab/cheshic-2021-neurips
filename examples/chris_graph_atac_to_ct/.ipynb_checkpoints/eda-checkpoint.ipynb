{
 "cells": [
  {
   "cell_type": "code",
   "execution_count": 1,
   "id": "4579d744-727a-408d-ae9b-47c4d0ba91b8",
   "metadata": {},
   "outputs": [],
   "source": [
    "import logging\n",
    "\n",
    "import anndata as ad\n",
    "import numpy as np\n",
    "import pandas as pd\n",
    "import scanpy as sc"
   ]
  },
  {
   "cell_type": "code",
   "execution_count": 2,
   "id": "9f9a2335-4aea-4c5c-bdb9-b9436eed2cd1",
   "metadata": {},
   "outputs": [],
   "source": [
    "# Init file paths\n",
    "file_path_training = '/Users/cheshic/dev/test_data/neurips-2021/multiome/multiome_atac_processed_training.h5ad'\n",
    "\n",
    "# Load data\n",
    "sc_raw_training = sc.read(file_path_training)\n",
    "sparse_data = sc_raw_training.X.todense()"
   ]
  },
  {
   "cell_type": "code",
   "execution_count": 9,
   "id": "750c7aaf-1955-4e08-8b4f-85e389777151",
   "metadata": {},
   "outputs": [
    {
     "data": {
      "text/plain": [
       "(22463, 116490)"
      ]
     },
     "execution_count": 9,
     "metadata": {},
     "output_type": "execute_result"
    }
   ],
   "source": [
    "sparse_data.shape"
   ]
  },
  {
   "cell_type": "code",
   "execution_count": 11,
   "id": "3b1c264e-7b48-4142-ac94-21db5d7128f6",
   "metadata": {},
   "outputs": [],
   "source": [
    "# convert to list of lists format\n",
    "matrix = sc_raw_training.X.tolil()"
   ]
  },
  {
   "cell_type": "code",
   "execution_count": null,
   "id": "deec12e3-b6d7-46f5-95ba-3a76f9b03cbd",
   "metadata": {},
   "outputs": [
    {
     "name": "stderr",
     "output_type": "stream",
     "text": [
      "IOPub data rate exceeded.\n",
      "The Jupyter server will temporarily stop sending output\n",
      "to the client in order to avoid crashing it.\n",
      "To change this limit, set the config variable\n",
      "`--ServerApp.iopub_data_rate_limit`.\n",
      "\n",
      "Current values:\n",
      "ServerApp.iopub_data_rate_limit=1000000.0 (bytes/sec)\n",
      "ServerApp.rate_limit_window=3.0 (secs)\n",
      "\n"
     ]
    }
   ],
   "source": [
    "for i,(rd) in enumerate(zip(matrix.rows, matrix.data)):\n",
    "    print(' '.join(['%s:%s'%ij for ij in zip(*rd)]))"
   ]
  }
 ],
 "metadata": {
  "kernelspec": {
   "display_name": "Python 3 (ipykernel)",
   "language": "python",
   "name": "python3"
  },
  "language_info": {
   "codemirror_mode": {
    "name": "ipython",
    "version": 3
   },
   "file_extension": ".py",
   "mimetype": "text/x-python",
   "name": "python",
   "nbconvert_exporter": "python",
   "pygments_lexer": "ipython3",
   "version": "3.9.7"
  }
 },
 "nbformat": 4,
 "nbformat_minor": 5
}
